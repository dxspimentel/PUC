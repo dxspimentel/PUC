{
  "nbformat": 4,
  "nbformat_minor": 0,
  "metadata": {
    "colab": {
      "provenance": [],
      "authorship_tag": "ABX9TyOaJSuXGJM50bRiPMQXwstr",
      "include_colab_link": true
    },
    "kernelspec": {
      "name": "python3",
      "display_name": "Python 3"
    },
    "language_info": {
      "name": "python"
    }
  },
  "cells": [
    {
      "cell_type": "markdown",
      "metadata": {
        "id": "view-in-github",
        "colab_type": "text"
      },
      "source": [
        "<a href=\"https://colab.research.google.com/github/dxspimentel/PUC/blob/main/MVP_Diego_Pimentel.ipynb\" target=\"_parent\"><img src=\"https://colab.research.google.com/assets/colab-badge.svg\" alt=\"Open In Colab\"/></a>"
      ]
    },
    {
      "cell_type": "markdown",
      "source": [
        "# **MVP Análise de Dados e Boas Práticas**\n",
        "\n",
        "Nome: Diego Pimentel <br>\n",
        "Matrícula: 4052025000258 <br>\n",
        "Dataset: **Escolas Conectadas**\n",
        "\n",
        "<br>\n",
        "--- OBSERVAÇÕES IMPORTANTES ---\n",
        "\n",
        "Este é um Dataset adaptado, devido a Segurança da Informação e Sigilo da Insituição.\n",
        "\n",
        "------"
      ],
      "metadata": {
        "id": "q2Y0-wVwNUae"
      }
    },
    {
      "cell_type": "markdown",
      "source": [
        "# Descrição do Problema\n",
        "\n",
        "Dados relacionados ao projeto Escolas Conectadas, cujo objetivo é levar internet a escolas com estrutura precária, ou sem estrutra, das regiões mais afastadas das grandas cidades.<br>\n",
        "Neste trabalho será desenvolida uma solução que facilite a identificação de quais escolas foram de fato entregues, sem pendências, dentro do universo de escolas com obras já contratadas."
      ],
      "metadata": {
        "id": "7EyywXWSOIa5"
      }
    },
    {
      "cell_type": "markdown",
      "source": [
        "# Hipóteses do Problema\n",
        "\n",
        "Cada escola tem a sua particularidade, com isso trabalha com escopo específico.\n",
        "O projeto de cada escola é dividido em 3 tipos de obra.\n",
        "1) Rede interna\n",
        "2) Rede externa\n",
        "3) Gerador solar"
      ],
      "metadata": {
        "id": "gR_HJkSHQPiI"
      }
    }
  ]
}