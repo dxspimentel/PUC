{
  "nbformat": 4,
  "nbformat_minor": 0,
  "metadata": {
    "colab": {
      "provenance": [],
      "mount_file_id": "12AmZMojPaUZgt5imslyyh_KwMkXcU1Gx",
      "authorship_tag": "ABX9TyPLtyHd/qwGvKAn8zjCvJl9",
      "include_colab_link": true
    },
    "kernelspec": {
      "name": "python3",
      "display_name": "Python 3"
    },
    "language_info": {
      "name": "python"
    }
  },
  "cells": [
    {
      "cell_type": "markdown",
      "metadata": {
        "id": "view-in-github",
        "colab_type": "text"
      },
      "source": [
        "<a href=\"https://colab.research.google.com/github/dxspimentel/PUC/blob/main/MVP_Diego_Pimentel.ipynb\" target=\"_parent\"><img src=\"https://colab.research.google.com/assets/colab-badge.svg\" alt=\"Open In Colab\"/></a>"
      ]
    },
    {
      "cell_type": "markdown",
      "source": [
        "# **MVP Análise de Dados e Boas Práticas**\n",
        "\n",
        "Nome: Diego Pimentel <br>\n",
        "Matrícula: 4052025000258 <br>\n",
        "Dataset: **Escolas Conectadas**\n",
        "\n",
        "<br>\n",
        "--- OBSERVAÇÃO IMPORTANTE ---\n",
        "\n",
        "Este é um Dataset adaptado, devido a Segurança da Informação e Sigilo da Insituição.\n",
        "\n",
        "------"
      ],
      "metadata": {
        "id": "q2Y0-wVwNUae"
      }
    },
    {
      "cell_type": "markdown",
      "source": [
        "# Descrição do Problema\n",
        "\n",
        "Dados relacionados ao projeto *Escolas Conectadas*, cujo objetivo é levar internet a escolas com estrutura precária, ou sem estrutra, das regiões mais afastadas das grandas cidades.<br>\n",
        "Neste trabalho será desenvolida uma solução que facilite a identificação de quais escolas foram de fato entregues, sem pendências, dentro do universo de escolas com obras já contratadas."
      ],
      "metadata": {
        "id": "7EyywXWSOIa5"
      }
    },
    {
      "cell_type": "markdown",
      "source": [
        "## Hipóteses do Problema\n",
        "\n",
        "Cada escola tem a sua particularidade, com isso trabalha com escopo específico.\n",
        "O escopo de cada projeto é dividido em 3 tipos de obras:.<br>\n",
        "1) Rede Interna<br>\n",
        "2) Rede Externa<br>\n",
        "3) Gerador Solar<br>\n",
        "\n",
        "A questão é analistar se as etapas previstas em cada escola foram concluídas e com isso classificar como **Conectada**."
      ],
      "metadata": {
        "id": "gR_HJkSHQPiI"
      }
    },
    {
      "cell_type": "markdown",
      "source": [
        "## Tipo de Problema\n",
        "\n",
        "Este é um problema de **classificação supervisionada**.<br>\n",
        "Cada etapa do projeto é classificada de acordo com o status de execução de obra. Uma vez que o escopo esteja totalmente atendido, a escola é classificada como entregue (**Conectada**)."
      ],
      "metadata": {
        "id": "oVW8g0oLUsC3"
      }
    },
    {
      "cell_type": "markdown",
      "source": [
        "## Seleção de Dados\n",
        "\n",
        "Para este trabalho considerei duas bases de dados. A primeira com o monitoramento das obras, por projeto, e a segunda informando o escopo a ser considerado para cada escola.<br><br>\n",
        "\n",
        "A base de projtos está verticalizada, ou seja, os status das etapas estão empilhados. Já a base de escopo já está bem definida, trazendo os escopos em 3 colunas distintas, para cada projeto."
      ],
      "metadata": {
        "id": "8U3fRs2EZxxO"
      }
    },
    {
      "cell_type": "markdown",
      "source": [
        "# Importação das Bibliotecas Necessárias e Carga de Dados\n",
        "\n",
        "Esta seção consolida todas as importações de bibliotecas necessárias para a análise, visualização e pré-processamento dos dados, bem como o carregamento inicial das bases para montar o dataset **Escolas Conectadas**."
      ],
      "metadata": {
        "id": "nl3e_CsG94Dd"
      }
    },
    {
      "cell_type": "code",
      "source": [
        "import pandas as pd\n",
        "import numpy as np\n",
        "import matplotlib.pyplot as plt\n",
        "import seaborn as sns\n",
        "from sklearn.datasets import load_iris\n",
        "from sklearn.model_selection import train_test_split\n",
        "from sklearn.preprocessing import StandardScaler, MinMaxScaler, OneHotEncoder\n",
        "from sklearn.decomposition import PCA\n",
        "from sklearn.compose import ColumnTransformer\n",
        "from sklearn.pipeline import Pipeline"
      ],
      "metadata": {
        "id": "3zJwDHjg-KHM"
      },
      "execution_count": null,
      "outputs": []
    },
    {
      "cell_type": "code",
      "source": [
        "# Carregamento da Base de Projetos\n",
        "# /content/drive/MyDrive/Colab Notebooks/Ciência de Dados/MVP/PUC_Db_01_Base_Projetos.csv"
      ],
      "metadata": {
        "id": "TEAucZul_2ZU"
      },
      "execution_count": null,
      "outputs": []
    },
    {
      "cell_type": "code",
      "source": [
        "# Carregamento da Base de Escopos\n",
        "# /content/drive/MyDrive/Colab Notebooks/Ciência de Dados/MVP/PUC_Db_02_Base_Escopo.csv"
      ],
      "metadata": {
        "id": "Mhr-v9ye_8S0"
      },
      "execution_count": null,
      "outputs": []
    },
    {
      "cell_type": "code",
      "source": [
        "from google.colab import drive\n",
        "drive.mount('/content/drive')"
      ],
      "metadata": {
        "colab": {
          "base_uri": "https://localhost:8080/"
        },
        "id": "pjHysBBzMrR3",
        "outputId": "1e14c0f4-a155-4841-9a2c-ef2529091949"
      },
      "execution_count": 1,
      "outputs": [
        {
          "output_type": "stream",
          "name": "stdout",
          "text": [
            "Drive already mounted at /content/drive; to attempt to forcibly remount, call drive.mount(\"/content/drive\", force_remount=True).\n"
          ]
        }
      ]
    }
  ]
}