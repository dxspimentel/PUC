{
  "nbformat": 4,
  "nbformat_minor": 0,
  "metadata": {
    "colab": {
      "provenance": [],
      "collapsed_sections": [
        "b2AMX3XOQy0c"
      ],
      "toc_visible": true,
      "include_colab_link": true
    },
    "kernelspec": {
      "name": "python3",
      "display_name": "Python 3"
    },
    "language_info": {
      "name": "python"
    }
  },
  "cells": [
    {
      "cell_type": "markdown",
      "metadata": {
        "id": "view-in-github",
        "colab_type": "text"
      },
      "source": [
        "<a href=\"https://colab.research.google.com/github/dxspimentel/PUC/blob/main/MVP_Aprender_Conectado.ipynb\" target=\"_parent\"><img src=\"https://colab.research.google.com/assets/colab-badge.svg\" alt=\"Open In Colab\"/></a>"
      ]
    },
    {
      "cell_type": "markdown",
      "source": [
        "# **MVP Análise de Dados e Boas Práticas**\n",
        "\n",
        "Nome: Diego Pimentel <br>\n",
        "Matrícula: 4052025000258 <br>\n",
        "Dataset: **Aprender Conectado**\n",
        "\n",
        "<br>\n",
        "--- OBSERVAÇÃO IMPORTANTE ---\n",
        "\n",
        "Este é um Dataset adaptado, devido a Segurança da Informação e Sigilo da Instituição.\n",
        "\n",
        "------"
      ],
      "metadata": {
        "id": "q2Y0-wVwNUae"
      }
    },
    {
      "cell_type": "markdown",
      "source": [
        "## Descrição do Problema\n",
        "\n",
        "Dados relacionados ao projeto *Aprender Conectado*, cujo objetivo é levar internet a escolas com estrutura precária, ou sem estrutura, nas regiões mais afastadas das grandes cidades.<br>\n",
        "Neste trabalho será desenvolvida uma solução que facilite a identificação de quais escolas foram de fato entregues, sem pendências, dentro do universo de escolas com obras já contratadas."
      ],
      "metadata": {
        "id": "7EyywXWSOIa5"
      }
    },
    {
      "cell_type": "markdown",
      "source": [
        "### Hipóteses do Problema\n",
        "\n",
        "Cada escola tem a sua particularidade, com isso trabalha com escopo específico.\n",
        "O escopo de cada projeto é dividido em 3 tipos de obras:<br>\n",
        "1) Rede Interna<br>\n",
        "2) Rede Externa<br>\n",
        "3) Gerador Solar<br>\n",
        "\n",
        "A questão é analisar se as etapas previstas em cada escola foram concluídas e com isso classificar como **Conectada**."
      ],
      "metadata": {
        "id": "gR_HJkSHQPiI"
      }
    },
    {
      "cell_type": "markdown",
      "source": [
        "### Tipo de Problema\n",
        "\n",
        "Este é um problema de **classificação supervisionada**.<br>\n",
        "Cada etapa do projeto é classificada de acordo com o status de execução de obra. Uma vez que o escopo esteja totalmente atendido, a escola é classificada como entregue (**Conectada**). Em **df_escopo** existe um atributo chamado **Escola Conectada**, onde as classificações estão divididas em \"Sim\" ou \"Não\"."
      ],
      "metadata": {
        "id": "oVW8g0oLUsC3"
      }
    },
    {
      "cell_type": "markdown",
      "source": [
        "### Seleção de Dados\n",
        "\n",
        "Para este trabalho considerei duas bases de dados. A primeira com o monitoramento das obras, por projeto, e a segunda informando o escopo a ser considerado para cada escola.<br><br>\n",
        "\n",
        "A base de projetos está verticalizada, ou seja, os status das etapas estão empilhados. Já a base de escopo já está bem definida, trazendo os escopos em 3 colunas distintas, para cada projeto, além da informação se a escola já está conectada (Sim/Não)."
      ],
      "metadata": {
        "id": "8U3fRs2EZxxO"
      }
    },
    {
      "cell_type": "markdown",
      "source": [
        "###Atributos do Dataset"
      ],
      "metadata": {
        "id": "Kxc71h1W2swL"
      }
    },
    {
      "cell_type": "markdown",
      "source": [
        "O Dataset deste trabalho consiste na união (cruzamento) de duas bases: [1] Projetos e [2] Escopo.<br>\n",
        "\n",
        "**df_projetos**: possui 7 atributos, com aproximadamente 25 mil linhas.<br>\n",
        "\n",
        "- **CODCT**: código do contrato\n",
        "- **PROJETO**: é a chave de identificação da escola contemplada\n",
        "- **Obra**: etapa considerada no escopo\n",
        "- **Tipo Obra**: agrupamento da etapa, caso exista\n",
        "- **RDO**: relatório diário de obra (código da tarefa)\n",
        "- **STATUS_RDO**: status da tarefa<br>\n",
        "- **DATA_VALIDACAO_SALA_TECNICA**: data em que a tarefa foi validada\n",
        "\n",
        "<br>**df_escopo**: possui 10 atributos, com 15.596 linhas (quantidade de escolas contempladas).\n",
        "- **PROJETO**: é a chave de identificação da escola contemplada\n",
        "- **Fase**: o programa foi dividido em duas fases (A e B)\n",
        "- **Região**: é a região do território nacional, referente àquela escola\n",
        "- **UF**: unidade federativa, referente àquela escola\n",
        "- **Município**: município do endereço da escola\n",
        "- **Escopo_RE**: escopo de Rede Interna (Sim ou Não)\n",
        "- **Escopo_RI**: escopo de Rede Externa (Sim ou Não)\n",
        "- **Escopo_GS**: escopo de Gerador Solar (Sim ou Não)\n",
        "- **Energia compart**: informação não relevante\n",
        "- **Escola Conectada**: validação para as etapas do escopo entregues - classificação  (Sim ou Não)\n"
      ],
      "metadata": {
        "id": "bSfJSuvd21wi"
      }
    },
    {
      "cell_type": "markdown",
      "source": [
        "## Importação das Bibliotecas Necessárias e Carga de Dados\n",
        "\n",
        "Esta seção consolida todas as importações de bibliotecas necessárias para a análise, visualização e pré-processamento dos dados, bem como o carregamento inicial das bases para montar o dataset **Escolas Conectadas**."
      ],
      "metadata": {
        "id": "nl3e_CsG94Dd"
      }
    },
    {
      "cell_type": "code",
      "source": [
        "# Bibliotecas\n",
        "import pandas as pd\n",
        "import matplotlib.pyplot as plt\n",
        "import seaborn as sns\n",
        "from sklearn.datasets import load_iris\n",
        "from sklearn.model_selection import train_test_split\n",
        "from sklearn.preprocessing import StandardScaler, MinMaxScaler, OneHotEncoder\n",
        "from sklearn.decomposition import PCA\n",
        "from sklearn.compose import ColumnTransformer\n",
        "from sklearn.pipeline import Pipeline\n",
        "\n",
        "# URLs\n",
        "github_projetos = 'https://raw.githubusercontent.com/dxspimentel/PUC/main/PUC_Db_01_Base_Projetos.csv'\n",
        "github_escopo = 'https://raw.githubusercontent.com/dxspimentel/PUC/main/PUC_Db_02_Base_Escopo.csv'"
      ],
      "metadata": {
        "id": "3zJwDHjg-KHM"
      },
      "execution_count": null,
      "outputs": []
    },
    {
      "cell_type": "code",
      "source": [
        "# Carregamento da Base de Projetos\n",
        "df_projetos = pd.read_csv(github_projetos, encoding='latin-1', sep=';')\n",
        "print('df_projetos carregado com sucesso')"
      ],
      "metadata": {
        "id": "TEAucZul_2ZU",
        "colab": {
          "base_uri": "https://localhost:8080/"
        },
        "outputId": "2c6e889f-6897-48cf-f083-524da02f3e86"
      },
      "execution_count": null,
      "outputs": [
        {
          "output_type": "stream",
          "name": "stdout",
          "text": [
            "df_projetos carregado com sucesso\n"
          ]
        }
      ]
    },
    {
      "cell_type": "code",
      "source": [
        "# Carregamento da Base de Escopos\n",
        "df_escopo = pd.read_csv(github_escopo, encoding='latin-1', sep=';')\n",
        "print('df_escopo carregado com sucesso')"
      ],
      "metadata": {
        "id": "Mhr-v9ye_8S0",
        "colab": {
          "base_uri": "https://localhost:8080/"
        },
        "outputId": "79764ce8-e1bd-4892-e693-2c156736bd48"
      },
      "execution_count": null,
      "outputs": [
        {
          "output_type": "stream",
          "name": "stdout",
          "text": [
            "df_escopo carregado com sucesso\n"
          ]
        }
      ]
    },
    {
      "cell_type": "markdown",
      "source": [
        "### Verificação de df_projetos"
      ],
      "metadata": {
        "id": "GhKjM1smYgqK"
      }
    },
    {
      "cell_type": "code",
      "source": [
        "df_projetos.info()"
      ],
      "metadata": {
        "colab": {
          "base_uri": "https://localhost:8080/"
        },
        "id": "mHAXrb2HuiFy",
        "outputId": "a3620fa6-776f-48e1-b3c9-ff9c681243f7"
      },
      "execution_count": null,
      "outputs": [
        {
          "output_type": "stream",
          "name": "stdout",
          "text": [
            "<class 'pandas.core.frame.DataFrame'>\n",
            "RangeIndex: 25194 entries, 0 to 25193\n",
            "Data columns (total 7 columns):\n",
            " #   Column                       Non-Null Count  Dtype \n",
            "---  ------                       --------------  ----- \n",
            " 0   CODCT                        25194 non-null  int64 \n",
            " 1   PROJETO                      25194 non-null  object\n",
            " 2   Obra                         25194 non-null  object\n",
            " 3   Tipo Obra                    25194 non-null  object\n",
            " 4   RDO                          25194 non-null  object\n",
            " 5   STATUS_RDO                   25194 non-null  object\n",
            " 6   DATA_VALIDACAO_SALA_TECNICA  20187 non-null  object\n",
            "dtypes: int64(1), object(6)\n",
            "memory usage: 1.3+ MB\n"
          ]
        }
      ]
    },
    {
      "cell_type": "code",
      "source": [
        "df_projetos.head()"
      ],
      "metadata": {
        "colab": {
          "base_uri": "https://localhost:8080/",
          "height": 206
        },
        "id": "azG8Y35oumj3",
        "outputId": "700b9406-4e72-4d2e-d568-8d2fa886ec1b"
      },
      "execution_count": null,
      "outputs": [
        {
          "output_type": "execute_result",
          "data": {
            "text/plain": [
              "   CODCT   PROJETO                    Obra       Tipo Obra              RDO  \\\n",
              "0      5  21023255  3-INSTALAÇÃO_DE_ACESSO  Rede de Acesso  RDO-00000000001   \n",
              "1      5  22013563  3-INSTALAÇÃO_DE_ACESSO  Rede de Acesso  RDO-00000000001   \n",
              "2      5  22123024  3-INSTALAÇÃO_DE_ACESSO  Rede de Acesso  RDO-00000000001   \n",
              "3      5  22141456  3-INSTALAÇÃO_DE_ACESSO  Rede de Acesso  RDO-00000000001   \n",
              "4      5  24011223  3-INSTALAÇÃO_DE_ACESSO  Rede de Acesso  RDO-00000000001   \n",
              "\n",
              "                      STATUS_RDO DATA_VALIDACAO_SALA_TECNICA  \n",
              "0  Aprovado Sala Técnica                   3/7/2025 00:00:00  \n",
              "1  Aprovado Sala Técnica                   5/6/2025 00:00:00  \n",
              "2  Aprovado Sala Técnica                   6/6/2025 00:00:00  \n",
              "3  Aprovado Sala Técnica                   3/7/2025 00:00:00  \n",
              "4  Aprovado Sala Técnica                   6/6/2025 00:00:00  "
            ],
            "text/html": [
              "\n",
              "  <div id=\"df-3a13e2e0-294e-4201-809f-305dc90e44df\" class=\"colab-df-container\">\n",
              "    <div>\n",
              "<style scoped>\n",
              "    .dataframe tbody tr th:only-of-type {\n",
              "        vertical-align: middle;\n",
              "    }\n",
              "\n",
              "    .dataframe tbody tr th {\n",
              "        vertical-align: top;\n",
              "    }\n",
              "\n",
              "    .dataframe thead th {\n",
              "        text-align: right;\n",
              "    }\n",
              "</style>\n",
              "<table border=\"1\" class=\"dataframe\">\n",
              "  <thead>\n",
              "    <tr style=\"text-align: right;\">\n",
              "      <th></th>\n",
              "      <th>CODCT</th>\n",
              "      <th>PROJETO</th>\n",
              "      <th>Obra</th>\n",
              "      <th>Tipo Obra</th>\n",
              "      <th>RDO</th>\n",
              "      <th>STATUS_RDO</th>\n",
              "      <th>DATA_VALIDACAO_SALA_TECNICA</th>\n",
              "    </tr>\n",
              "  </thead>\n",
              "  <tbody>\n",
              "    <tr>\n",
              "      <th>0</th>\n",
              "      <td>5</td>\n",
              "      <td>21023255</td>\n",
              "      <td>3-INSTALAÇÃO_DE_ACESSO</td>\n",
              "      <td>Rede de Acesso</td>\n",
              "      <td>RDO-00000000001</td>\n",
              "      <td>Aprovado Sala Técnica</td>\n",
              "      <td>3/7/2025 00:00:00</td>\n",
              "    </tr>\n",
              "    <tr>\n",
              "      <th>1</th>\n",
              "      <td>5</td>\n",
              "      <td>22013563</td>\n",
              "      <td>3-INSTALAÇÃO_DE_ACESSO</td>\n",
              "      <td>Rede de Acesso</td>\n",
              "      <td>RDO-00000000001</td>\n",
              "      <td>Aprovado Sala Técnica</td>\n",
              "      <td>5/6/2025 00:00:00</td>\n",
              "    </tr>\n",
              "    <tr>\n",
              "      <th>2</th>\n",
              "      <td>5</td>\n",
              "      <td>22123024</td>\n",
              "      <td>3-INSTALAÇÃO_DE_ACESSO</td>\n",
              "      <td>Rede de Acesso</td>\n",
              "      <td>RDO-00000000001</td>\n",
              "      <td>Aprovado Sala Técnica</td>\n",
              "      <td>6/6/2025 00:00:00</td>\n",
              "    </tr>\n",
              "    <tr>\n",
              "      <th>3</th>\n",
              "      <td>5</td>\n",
              "      <td>22141456</td>\n",
              "      <td>3-INSTALAÇÃO_DE_ACESSO</td>\n",
              "      <td>Rede de Acesso</td>\n",
              "      <td>RDO-00000000001</td>\n",
              "      <td>Aprovado Sala Técnica</td>\n",
              "      <td>3/7/2025 00:00:00</td>\n",
              "    </tr>\n",
              "    <tr>\n",
              "      <th>4</th>\n",
              "      <td>5</td>\n",
              "      <td>24011223</td>\n",
              "      <td>3-INSTALAÇÃO_DE_ACESSO</td>\n",
              "      <td>Rede de Acesso</td>\n",
              "      <td>RDO-00000000001</td>\n",
              "      <td>Aprovado Sala Técnica</td>\n",
              "      <td>6/6/2025 00:00:00</td>\n",
              "    </tr>\n",
              "  </tbody>\n",
              "</table>\n",
              "</div>\n",
              "    <div class=\"colab-df-buttons\">\n",
              "\n",
              "  <div class=\"colab-df-container\">\n",
              "    <button class=\"colab-df-convert\" onclick=\"convertToInteractive('df-3a13e2e0-294e-4201-809f-305dc90e44df')\"\n",
              "            title=\"Convert this dataframe to an interactive table.\"\n",
              "            style=\"display:none;\">\n",
              "\n",
              "  <svg xmlns=\"http://www.w3.org/2000/svg\" height=\"24px\" viewBox=\"0 -960 960 960\">\n",
              "    <path d=\"M120-120v-720h720v720H120Zm60-500h600v-160H180v160Zm220 220h160v-160H400v160Zm0 220h160v-160H400v160ZM180-400h160v-160H180v160Zm440 0h160v-160H620v160ZM180-180h160v-160H180v160Zm440 0h160v-160H620v160Z\"/>\n",
              "  </svg>\n",
              "    </button>\n",
              "\n",
              "  <style>\n",
              "    .colab-df-container {\n",
              "      display:flex;\n",
              "      gap: 12px;\n",
              "    }\n",
              "\n",
              "    .colab-df-convert {\n",
              "      background-color: #E8F0FE;\n",
              "      border: none;\n",
              "      border-radius: 50%;\n",
              "      cursor: pointer;\n",
              "      display: none;\n",
              "      fill: #1967D2;\n",
              "      height: 32px;\n",
              "      padding: 0 0 0 0;\n",
              "      width: 32px;\n",
              "    }\n",
              "\n",
              "    .colab-df-convert:hover {\n",
              "      background-color: #E2EBFA;\n",
              "      box-shadow: 0px 1px 2px rgba(60, 64, 67, 0.3), 0px 1px 3px 1px rgba(60, 64, 67, 0.15);\n",
              "      fill: #174EA6;\n",
              "    }\n",
              "\n",
              "    .colab-df-buttons div {\n",
              "      margin-bottom: 4px;\n",
              "    }\n",
              "\n",
              "    [theme=dark] .colab-df-convert {\n",
              "      background-color: #3B4455;\n",
              "      fill: #D2E3FC;\n",
              "    }\n",
              "\n",
              "    [theme=dark] .colab-df-convert:hover {\n",
              "      background-color: #434B5C;\n",
              "      box-shadow: 0px 1px 3px 1px rgba(0, 0, 0, 0.15);\n",
              "      filter: drop-shadow(0px 1px 2px rgba(0, 0, 0, 0.3));\n",
              "      fill: #FFFFFF;\n",
              "    }\n",
              "  </style>\n",
              "\n",
              "    <script>\n",
              "      const buttonEl =\n",
              "        document.querySelector('#df-3a13e2e0-294e-4201-809f-305dc90e44df button.colab-df-convert');\n",
              "      buttonEl.style.display =\n",
              "        google.colab.kernel.accessAllowed ? 'block' : 'none';\n",
              "\n",
              "      async function convertToInteractive(key) {\n",
              "        const element = document.querySelector('#df-3a13e2e0-294e-4201-809f-305dc90e44df');\n",
              "        const dataTable =\n",
              "          await google.colab.kernel.invokeFunction('convertToInteractive',\n",
              "                                                    [key], {});\n",
              "        if (!dataTable) return;\n",
              "\n",
              "        const docLinkHtml = 'Like what you see? Visit the ' +\n",
              "          '<a target=\"_blank\" href=https://colab.research.google.com/notebooks/data_table.ipynb>data table notebook</a>'\n",
              "          + ' to learn more about interactive tables.';\n",
              "        element.innerHTML = '';\n",
              "        dataTable['output_type'] = 'display_data';\n",
              "        await google.colab.output.renderOutput(dataTable, element);\n",
              "        const docLink = document.createElement('div');\n",
              "        docLink.innerHTML = docLinkHtml;\n",
              "        element.appendChild(docLink);\n",
              "      }\n",
              "    </script>\n",
              "  </div>\n",
              "\n",
              "\n",
              "    <div id=\"df-def7409e-2c81-4672-bb2f-83f59068c260\">\n",
              "      <button class=\"colab-df-quickchart\" onclick=\"quickchart('df-def7409e-2c81-4672-bb2f-83f59068c260')\"\n",
              "                title=\"Suggest charts\"\n",
              "                style=\"display:none;\">\n",
              "\n",
              "<svg xmlns=\"http://www.w3.org/2000/svg\" height=\"24px\"viewBox=\"0 0 24 24\"\n",
              "     width=\"24px\">\n",
              "    <g>\n",
              "        <path d=\"M19 3H5c-1.1 0-2 .9-2 2v14c0 1.1.9 2 2 2h14c1.1 0 2-.9 2-2V5c0-1.1-.9-2-2-2zM9 17H7v-7h2v7zm4 0h-2V7h2v10zm4 0h-2v-4h2v4z\"/>\n",
              "    </g>\n",
              "</svg>\n",
              "      </button>\n",
              "\n",
              "<style>\n",
              "  .colab-df-quickchart {\n",
              "      --bg-color: #E8F0FE;\n",
              "      --fill-color: #1967D2;\n",
              "      --hover-bg-color: #E2EBFA;\n",
              "      --hover-fill-color: #174EA6;\n",
              "      --disabled-fill-color: #AAA;\n",
              "      --disabled-bg-color: #DDD;\n",
              "  }\n",
              "\n",
              "  [theme=dark] .colab-df-quickchart {\n",
              "      --bg-color: #3B4455;\n",
              "      --fill-color: #D2E3FC;\n",
              "      --hover-bg-color: #434B5C;\n",
              "      --hover-fill-color: #FFFFFF;\n",
              "      --disabled-bg-color: #3B4455;\n",
              "      --disabled-fill-color: #666;\n",
              "  }\n",
              "\n",
              "  .colab-df-quickchart {\n",
              "    background-color: var(--bg-color);\n",
              "    border: none;\n",
              "    border-radius: 50%;\n",
              "    cursor: pointer;\n",
              "    display: none;\n",
              "    fill: var(--fill-color);\n",
              "    height: 32px;\n",
              "    padding: 0;\n",
              "    width: 32px;\n",
              "  }\n",
              "\n",
              "  .colab-df-quickchart:hover {\n",
              "    background-color: var(--hover-bg-color);\n",
              "    box-shadow: 0 1px 2px rgba(60, 64, 67, 0.3), 0 1px 3px 1px rgba(60, 64, 67, 0.15);\n",
              "    fill: var(--button-hover-fill-color);\n",
              "  }\n",
              "\n",
              "  .colab-df-quickchart-complete:disabled,\n",
              "  .colab-df-quickchart-complete:disabled:hover {\n",
              "    background-color: var(--disabled-bg-color);\n",
              "    fill: var(--disabled-fill-color);\n",
              "    box-shadow: none;\n",
              "  }\n",
              "\n",
              "  .colab-df-spinner {\n",
              "    border: 2px solid var(--fill-color);\n",
              "    border-color: transparent;\n",
              "    border-bottom-color: var(--fill-color);\n",
              "    animation:\n",
              "      spin 1s steps(1) infinite;\n",
              "  }\n",
              "\n",
              "  @keyframes spin {\n",
              "    0% {\n",
              "      border-color: transparent;\n",
              "      border-bottom-color: var(--fill-color);\n",
              "      border-left-color: var(--fill-color);\n",
              "    }\n",
              "    20% {\n",
              "      border-color: transparent;\n",
              "      border-left-color: var(--fill-color);\n",
              "      border-top-color: var(--fill-color);\n",
              "    }\n",
              "    30% {\n",
              "      border-color: transparent;\n",
              "      border-left-color: var(--fill-color);\n",
              "      border-top-color: var(--fill-color);\n",
              "      border-right-color: var(--fill-color);\n",
              "    }\n",
              "    40% {\n",
              "      border-color: transparent;\n",
              "      border-right-color: var(--fill-color);\n",
              "      border-top-color: var(--fill-color);\n",
              "    }\n",
              "    60% {\n",
              "      border-color: transparent;\n",
              "      border-right-color: var(--fill-color);\n",
              "    }\n",
              "    80% {\n",
              "      border-color: transparent;\n",
              "      border-right-color: var(--fill-color);\n",
              "      border-bottom-color: var(--fill-color);\n",
              "    }\n",
              "    90% {\n",
              "      border-color: transparent;\n",
              "      border-bottom-color: var(--fill-color);\n",
              "    }\n",
              "  }\n",
              "</style>\n",
              "\n",
              "      <script>\n",
              "        async function quickchart(key) {\n",
              "          const quickchartButtonEl =\n",
              "            document.querySelector('#' + key + ' button');\n",
              "          quickchartButtonEl.disabled = true;  // To prevent multiple clicks.\n",
              "          quickchartButtonEl.classList.add('colab-df-spinner');\n",
              "          try {\n",
              "            const charts = await google.colab.kernel.invokeFunction(\n",
              "                'suggestCharts', [key], {});\n",
              "          } catch (error) {\n",
              "            console.error('Error during call to suggestCharts:', error);\n",
              "          }\n",
              "          quickchartButtonEl.classList.remove('colab-df-spinner');\n",
              "          quickchartButtonEl.classList.add('colab-df-quickchart-complete');\n",
              "        }\n",
              "        (() => {\n",
              "          let quickchartButtonEl =\n",
              "            document.querySelector('#df-def7409e-2c81-4672-bb2f-83f59068c260 button');\n",
              "          quickchartButtonEl.style.display =\n",
              "            google.colab.kernel.accessAllowed ? 'block' : 'none';\n",
              "        })();\n",
              "      </script>\n",
              "    </div>\n",
              "\n",
              "    </div>\n",
              "  </div>\n"
            ],
            "application/vnd.google.colaboratory.intrinsic+json": {
              "type": "dataframe",
              "variable_name": "df_projetos",
              "summary": "{\n  \"name\": \"df_projetos\",\n  \"rows\": 25194,\n  \"fields\": [\n    {\n      \"column\": \"CODCT\",\n      \"properties\": {\n        \"dtype\": \"number\",\n        \"std\": 1,\n        \"min\": 1,\n        \"max\": 7,\n        \"num_unique_values\": 7,\n        \"samples\": [\n          5,\n          6,\n          1\n        ],\n        \"semantic_type\": \"\",\n        \"description\": \"\"\n      }\n    },\n    {\n      \"column\": \"PROJETO\",\n      \"properties\": {\n        \"dtype\": \"string\",\n        \"num_unique_values\": 14435,\n        \"samples\": [\n          \"51092913\",\n          \"33014655\",\n          \"43164544\"\n        ],\n        \"semantic_type\": \"\",\n        \"description\": \"\"\n      }\n    },\n    {\n      \"column\": \"Obra\",\n      \"properties\": {\n        \"dtype\": \"category\",\n        \"num_unique_values\": 5,\n        \"samples\": [\n          \"4-IMPLANTA\\u00c7\\u00c3O_DE_REDE_INTERNA\",\n          \"11-GERADOR_SOLAR_COMPARTILHADA\",\n          \"5-GERADOR_SOLAR\"\n        ],\n        \"semantic_type\": \"\",\n        \"description\": \"\"\n      }\n    },\n    {\n      \"column\": \"Tipo Obra\",\n      \"properties\": {\n        \"dtype\": \"category\",\n        \"num_unique_values\": 3,\n        \"samples\": [\n          \"Rede de Acesso\",\n          \"Rede Interna\",\n          \"Gerador Solar\"\n        ],\n        \"semantic_type\": \"\",\n        \"description\": \"\"\n      }\n    },\n    {\n      \"column\": \"RDO\",\n      \"properties\": {\n        \"dtype\": \"category\",\n        \"num_unique_values\": 102,\n        \"samples\": [\n          \"RDO-00000000167\",\n          \"RDO-00000000008\",\n          \"RDO-00000000014\"\n        ],\n        \"semantic_type\": \"\",\n        \"description\": \"\"\n      }\n    },\n    {\n      \"column\": \"STATUS_RDO\",\n      \"properties\": {\n        \"dtype\": \"category\",\n        \"num_unique_values\": 5,\n        \"samples\": [\n          \"Aguardando Aval. Supervisor  \",\n          \"Aguardando Aval. Sala T\\u00e9cnica\",\n          \"Cancelado                    \"\n        ],\n        \"semantic_type\": \"\",\n        \"description\": \"\"\n      }\n    },\n    {\n      \"column\": \"DATA_VALIDACAO_SALA_TECNICA\",\n      \"properties\": {\n        \"dtype\": \"category\",\n        \"num_unique_values\": 233,\n        \"samples\": [\n          \"8/5/2025 00:00:00\",\n          \"24/5/2025 00:00:00\",\n          \"3/1/2025 00:00:00\"\n        ],\n        \"semantic_type\": \"\",\n        \"description\": \"\"\n      }\n    }\n  ]\n}"
            }
          },
          "metadata": {},
          "execution_count": 47
        }
      ]
    },
    {
      "cell_type": "code",
      "source": [
        "df_projetos.describe()"
      ],
      "metadata": {
        "colab": {
          "base_uri": "https://localhost:8080/",
          "height": 300
        },
        "id": "CAK4EvxQutA_",
        "outputId": "33e28bca-feff-4fb1-b32a-ad0b676507df"
      },
      "execution_count": null,
      "outputs": [
        {
          "output_type": "execute_result",
          "data": {
            "text/plain": [
              "              CODCT\n",
              "count  25194.000000\n",
              "mean       4.698063\n",
              "std        1.471547\n",
              "min        1.000000\n",
              "25%        4.000000\n",
              "50%        4.000000\n",
              "75%        6.000000\n",
              "max        7.000000"
            ],
            "text/html": [
              "\n",
              "  <div id=\"df-4f0fc423-2607-43fa-9eb9-63aedea21f4d\" class=\"colab-df-container\">\n",
              "    <div>\n",
              "<style scoped>\n",
              "    .dataframe tbody tr th:only-of-type {\n",
              "        vertical-align: middle;\n",
              "    }\n",
              "\n",
              "    .dataframe tbody tr th {\n",
              "        vertical-align: top;\n",
              "    }\n",
              "\n",
              "    .dataframe thead th {\n",
              "        text-align: right;\n",
              "    }\n",
              "</style>\n",
              "<table border=\"1\" class=\"dataframe\">\n",
              "  <thead>\n",
              "    <tr style=\"text-align: right;\">\n",
              "      <th></th>\n",
              "      <th>CODCT</th>\n",
              "    </tr>\n",
              "  </thead>\n",
              "  <tbody>\n",
              "    <tr>\n",
              "      <th>count</th>\n",
              "      <td>25194.000000</td>\n",
              "    </tr>\n",
              "    <tr>\n",
              "      <th>mean</th>\n",
              "      <td>4.698063</td>\n",
              "    </tr>\n",
              "    <tr>\n",
              "      <th>std</th>\n",
              "      <td>1.471547</td>\n",
              "    </tr>\n",
              "    <tr>\n",
              "      <th>min</th>\n",
              "      <td>1.000000</td>\n",
              "    </tr>\n",
              "    <tr>\n",
              "      <th>25%</th>\n",
              "      <td>4.000000</td>\n",
              "    </tr>\n",
              "    <tr>\n",
              "      <th>50%</th>\n",
              "      <td>4.000000</td>\n",
              "    </tr>\n",
              "    <tr>\n",
              "      <th>75%</th>\n",
              "      <td>6.000000</td>\n",
              "    </tr>\n",
              "    <tr>\n",
              "      <th>max</th>\n",
              "      <td>7.000000</td>\n",
              "    </tr>\n",
              "  </tbody>\n",
              "</table>\n",
              "</div>\n",
              "    <div class=\"colab-df-buttons\">\n",
              "\n",
              "  <div class=\"colab-df-container\">\n",
              "    <button class=\"colab-df-convert\" onclick=\"convertToInteractive('df-4f0fc423-2607-43fa-9eb9-63aedea21f4d')\"\n",
              "            title=\"Convert this dataframe to an interactive table.\"\n",
              "            style=\"display:none;\">\n",
              "\n",
              "  <svg xmlns=\"http://www.w3.org/2000/svg\" height=\"24px\" viewBox=\"0 -960 960 960\">\n",
              "    <path d=\"M120-120v-720h720v720H120Zm60-500h600v-160H180v160Zm220 220h160v-160H400v160Zm0 220h160v-160H400v160ZM180-400h160v-160H180v160Zm440 0h160v-160H620v160ZM180-180h160v-160H180v160Zm440 0h160v-160H620v160Z\"/>\n",
              "  </svg>\n",
              "    </button>\n",
              "\n",
              "  <style>\n",
              "    .colab-df-container {\n",
              "      display:flex;\n",
              "      gap: 12px;\n",
              "    }\n",
              "\n",
              "    .colab-df-convert {\n",
              "      background-color: #E8F0FE;\n",
              "      border: none;\n",
              "      border-radius: 50%;\n",
              "      cursor: pointer;\n",
              "      display: none;\n",
              "      fill: #1967D2;\n",
              "      height: 32px;\n",
              "      padding: 0 0 0 0;\n",
              "      width: 32px;\n",
              "    }\n",
              "\n",
              "    .colab-df-convert:hover {\n",
              "      background-color: #E2EBFA;\n",
              "      box-shadow: 0px 1px 2px rgba(60, 64, 67, 0.3), 0px 1px 3px 1px rgba(60, 64, 67, 0.15);\n",
              "      fill: #174EA6;\n",
              "    }\n",
              "\n",
              "    .colab-df-buttons div {\n",
              "      margin-bottom: 4px;\n",
              "    }\n",
              "\n",
              "    [theme=dark] .colab-df-convert {\n",
              "      background-color: #3B4455;\n",
              "      fill: #D2E3FC;\n",
              "    }\n",
              "\n",
              "    [theme=dark] .colab-df-convert:hover {\n",
              "      background-color: #434B5C;\n",
              "      box-shadow: 0px 1px 3px 1px rgba(0, 0, 0, 0.15);\n",
              "      filter: drop-shadow(0px 1px 2px rgba(0, 0, 0, 0.3));\n",
              "      fill: #FFFFFF;\n",
              "    }\n",
              "  </style>\n",
              "\n",
              "    <script>\n",
              "      const buttonEl =\n",
              "        document.querySelector('#df-4f0fc423-2607-43fa-9eb9-63aedea21f4d button.colab-df-convert');\n",
              "      buttonEl.style.display =\n",
              "        google.colab.kernel.accessAllowed ? 'block' : 'none';\n",
              "\n",
              "      async function convertToInteractive(key) {\n",
              "        const element = document.querySelector('#df-4f0fc423-2607-43fa-9eb9-63aedea21f4d');\n",
              "        const dataTable =\n",
              "          await google.colab.kernel.invokeFunction('convertToInteractive',\n",
              "                                                    [key], {});\n",
              "        if (!dataTable) return;\n",
              "\n",
              "        const docLinkHtml = 'Like what you see? Visit the ' +\n",
              "          '<a target=\"_blank\" href=https://colab.research.google.com/notebooks/data_table.ipynb>data table notebook</a>'\n",
              "          + ' to learn more about interactive tables.';\n",
              "        element.innerHTML = '';\n",
              "        dataTable['output_type'] = 'display_data';\n",
              "        await google.colab.output.renderOutput(dataTable, element);\n",
              "        const docLink = document.createElement('div');\n",
              "        docLink.innerHTML = docLinkHtml;\n",
              "        element.appendChild(docLink);\n",
              "      }\n",
              "    </script>\n",
              "  </div>\n",
              "\n",
              "\n",
              "    <div id=\"df-005abe64-db2f-404a-a11b-e63a63c60971\">\n",
              "      <button class=\"colab-df-quickchart\" onclick=\"quickchart('df-005abe64-db2f-404a-a11b-e63a63c60971')\"\n",
              "                title=\"Suggest charts\"\n",
              "                style=\"display:none;\">\n",
              "\n",
              "<svg xmlns=\"http://www.w3.org/2000/svg\" height=\"24px\"viewBox=\"0 0 24 24\"\n",
              "     width=\"24px\">\n",
              "    <g>\n",
              "        <path d=\"M19 3H5c-1.1 0-2 .9-2 2v14c0 1.1.9 2 2 2h14c1.1 0 2-.9 2-2V5c0-1.1-.9-2-2-2zM9 17H7v-7h2v7zm4 0h-2V7h2v10zm4 0h-2v-4h2v4z\"/>\n",
              "    </g>\n",
              "</svg>\n",
              "      </button>\n",
              "\n",
              "<style>\n",
              "  .colab-df-quickchart {\n",
              "      --bg-color: #E8F0FE;\n",
              "      --fill-color: #1967D2;\n",
              "      --hover-bg-color: #E2EBFA;\n",
              "      --hover-fill-color: #174EA6;\n",
              "      --disabled-fill-color: #AAA;\n",
              "      --disabled-bg-color: #DDD;\n",
              "  }\n",
              "\n",
              "  [theme=dark] .colab-df-quickchart {\n",
              "      --bg-color: #3B4455;\n",
              "      --fill-color: #D2E3FC;\n",
              "      --hover-bg-color: #434B5C;\n",
              "      --hover-fill-color: #FFFFFF;\n",
              "      --disabled-bg-color: #3B4455;\n",
              "      --disabled-fill-color: #666;\n",
              "  }\n",
              "\n",
              "  .colab-df-quickchart {\n",
              "    background-color: var(--bg-color);\n",
              "    border: none;\n",
              "    border-radius: 50%;\n",
              "    cursor: pointer;\n",
              "    display: none;\n",
              "    fill: var(--fill-color);\n",
              "    height: 32px;\n",
              "    padding: 0;\n",
              "    width: 32px;\n",
              "  }\n",
              "\n",
              "  .colab-df-quickchart:hover {\n",
              "    background-color: var(--hover-bg-color);\n",
              "    box-shadow: 0 1px 2px rgba(60, 64, 67, 0.3), 0 1px 3px 1px rgba(60, 64, 67, 0.15);\n",
              "    fill: var(--button-hover-fill-color);\n",
              "  }\n",
              "\n",
              "  .colab-df-quickchart-complete:disabled,\n",
              "  .colab-df-quickchart-complete:disabled:hover {\n",
              "    background-color: var(--disabled-bg-color);\n",
              "    fill: var(--disabled-fill-color);\n",
              "    box-shadow: none;\n",
              "  }\n",
              "\n",
              "  .colab-df-spinner {\n",
              "    border: 2px solid var(--fill-color);\n",
              "    border-color: transparent;\n",
              "    border-bottom-color: var(--fill-color);\n",
              "    animation:\n",
              "      spin 1s steps(1) infinite;\n",
              "  }\n",
              "\n",
              "  @keyframes spin {\n",
              "    0% {\n",
              "      border-color: transparent;\n",
              "      border-bottom-color: var(--fill-color);\n",
              "      border-left-color: var(--fill-color);\n",
              "    }\n",
              "    20% {\n",
              "      border-color: transparent;\n",
              "      border-left-color: var(--fill-color);\n",
              "      border-top-color: var(--fill-color);\n",
              "    }\n",
              "    30% {\n",
              "      border-color: transparent;\n",
              "      border-left-color: var(--fill-color);\n",
              "      border-top-color: var(--fill-color);\n",
              "      border-right-color: var(--fill-color);\n",
              "    }\n",
              "    40% {\n",
              "      border-color: transparent;\n",
              "      border-right-color: var(--fill-color);\n",
              "      border-top-color: var(--fill-color);\n",
              "    }\n",
              "    60% {\n",
              "      border-color: transparent;\n",
              "      border-right-color: var(--fill-color);\n",
              "    }\n",
              "    80% {\n",
              "      border-color: transparent;\n",
              "      border-right-color: var(--fill-color);\n",
              "      border-bottom-color: var(--fill-color);\n",
              "    }\n",
              "    90% {\n",
              "      border-color: transparent;\n",
              "      border-bottom-color: var(--fill-color);\n",
              "    }\n",
              "  }\n",
              "</style>\n",
              "\n",
              "      <script>\n",
              "        async function quickchart(key) {\n",
              "          const quickchartButtonEl =\n",
              "            document.querySelector('#' + key + ' button');\n",
              "          quickchartButtonEl.disabled = true;  // To prevent multiple clicks.\n",
              "          quickchartButtonEl.classList.add('colab-df-spinner');\n",
              "          try {\n",
              "            const charts = await google.colab.kernel.invokeFunction(\n",
              "                'suggestCharts', [key], {});\n",
              "          } catch (error) {\n",
              "            console.error('Error during call to suggestCharts:', error);\n",
              "          }\n",
              "          quickchartButtonEl.classList.remove('colab-df-spinner');\n",
              "          quickchartButtonEl.classList.add('colab-df-quickchart-complete');\n",
              "        }\n",
              "        (() => {\n",
              "          let quickchartButtonEl =\n",
              "            document.querySelector('#df-005abe64-db2f-404a-a11b-e63a63c60971 button');\n",
              "          quickchartButtonEl.style.display =\n",
              "            google.colab.kernel.accessAllowed ? 'block' : 'none';\n",
              "        })();\n",
              "      </script>\n",
              "    </div>\n",
              "\n",
              "    </div>\n",
              "  </div>\n"
            ],
            "application/vnd.google.colaboratory.intrinsic+json": {
              "type": "dataframe",
              "summary": "{\n  \"name\": \"df_projetos\",\n  \"rows\": 8,\n  \"fields\": [\n    {\n      \"column\": \"CODCT\",\n      \"properties\": {\n        \"dtype\": \"number\",\n        \"std\": 8906.00157406085,\n        \"min\": 1.0,\n        \"max\": 25194.0,\n        \"num_unique_values\": 7,\n        \"samples\": [\n          25194.0,\n          4.698063030880368,\n          6.0\n        ],\n        \"semantic_type\": \"\",\n        \"description\": \"\"\n      }\n    }\n  ]\n}"
            }
          },
          "metadata": {},
          "execution_count": 48
        }
      ]
    },
    {
      "cell_type": "code",
      "source": [
        "print(\"\\n--- Contagem de valores únicos por coluna em df_projetos ---\")\n",
        "for col in df_projetos.columns:\n",
        "    print(f\"- {col}: {df_projetos[col].nunique()} valores únicos\")"
      ],
      "metadata": {
        "colab": {
          "base_uri": "https://localhost:8080/"
        },
        "id": "vVQP6HO7qlSi",
        "outputId": "234c1aa4-8382-41ad-9a20-0bd9dd32d126"
      },
      "execution_count": null,
      "outputs": [
        {
          "output_type": "stream",
          "name": "stdout",
          "text": [
            "\n",
            "--- Contagem de valores únicos por coluna em df_projetos ---\n",
            "- CODCT: 7 valores únicos\n",
            "- PROJETO: 14435 valores únicos\n",
            "- Obra: 5 valores únicos\n",
            "- Tipo Obra: 3 valores únicos\n",
            "- RDO: 102 valores únicos\n",
            "- STATUS_RDO: 5 valores únicos\n",
            "- DATA_VALIDACAO_SALA_TECNICA: 233 valores únicos\n"
          ]
        }
      ]
    },
    {
      "cell_type": "markdown",
      "source": [
        "### Verificação de df_escopo"
      ],
      "metadata": {
        "id": "TDDHOSKAYu9v"
      }
    },
    {
      "cell_type": "code",
      "source": [
        "df_escopo.info()"
      ],
      "metadata": {
        "colab": {
          "base_uri": "https://localhost:8080/"
        },
        "id": "dPHpYY85wLle",
        "outputId": "06a89dd5-c79d-45c7-dd69-60e57da18da3"
      },
      "execution_count": null,
      "outputs": [
        {
          "output_type": "stream",
          "name": "stdout",
          "text": [
            "<class 'pandas.core.frame.DataFrame'>\n",
            "RangeIndex: 15596 entries, 0 to 15595\n",
            "Data columns (total 10 columns):\n",
            " #   Column            Non-Null Count  Dtype \n",
            "---  ------            --------------  ----- \n",
            " 0   PROJETO           15596 non-null  int64 \n",
            " 1   Fase              15596 non-null  object\n",
            " 2   Região            15596 non-null  object\n",
            " 3   UF                15596 non-null  object\n",
            " 4   Município         15596 non-null  object\n",
            " 5   Escopo_RE         15596 non-null  object\n",
            " 6   Escopo_RI         15596 non-null  object\n",
            " 7   Escopo_GS         15596 non-null  object\n",
            " 8   Energia compart   123 non-null    object\n",
            " 9   Escola Conectada  15596 non-null  object\n",
            "dtypes: int64(1), object(9)\n",
            "memory usage: 1.2+ MB\n"
          ]
        }
      ]
    },
    {
      "cell_type": "code",
      "source": [
        "df_escopo.head()"
      ],
      "metadata": {
        "colab": {
          "base_uri": "https://localhost:8080/",
          "height": 206
        },
        "id": "4YBG0idCwLcP",
        "outputId": "30d6094e-1a10-443f-a792-02c43c4fb448"
      },
      "execution_count": null,
      "outputs": [
        {
          "output_type": "execute_result",
          "data": {
            "text/plain": [
              "    PROJETO Fase Região  UF        Município Escopo_RE Escopo_RI Escopo_GS  \\\n",
              "0  12001058    B  Norte  AC  Cruzeiro do Sul       Sim       Sim       Não   \n",
              "1  12001953    B  Norte  AC      Mâncio Lima       Sim       Sim       Não   \n",
              "2  12001996    B  Norte  AC      Mâncio Lima       Sim       Sim       Não   \n",
              "3  12002003    B  Norte  AC      Mâncio Lima       Sim       Sim       Não   \n",
              "4  12002054    B  Norte  AC      Mâncio Lima       Sim       Sim       Não   \n",
              "\n",
              "  Energia compart Escola Conectada  \n",
              "0             NaN              Não  \n",
              "1             NaN              Sim  \n",
              "2             NaN              Não  \n",
              "3             NaN              Não  \n",
              "4             NaN              Não  "
            ],
            "text/html": [
              "\n",
              "  <div id=\"df-d11c2777-1bc1-4e44-baf0-7ff2ffe30894\" class=\"colab-df-container\">\n",
              "    <div>\n",
              "<style scoped>\n",
              "    .dataframe tbody tr th:only-of-type {\n",
              "        vertical-align: middle;\n",
              "    }\n",
              "\n",
              "    .dataframe tbody tr th {\n",
              "        vertical-align: top;\n",
              "    }\n",
              "\n",
              "    .dataframe thead th {\n",
              "        text-align: right;\n",
              "    }\n",
              "</style>\n",
              "<table border=\"1\" class=\"dataframe\">\n",
              "  <thead>\n",
              "    <tr style=\"text-align: right;\">\n",
              "      <th></th>\n",
              "      <th>PROJETO</th>\n",
              "      <th>Fase</th>\n",
              "      <th>Região</th>\n",
              "      <th>UF</th>\n",
              "      <th>Município</th>\n",
              "      <th>Escopo_RE</th>\n",
              "      <th>Escopo_RI</th>\n",
              "      <th>Escopo_GS</th>\n",
              "      <th>Energia compart</th>\n",
              "      <th>Escola Conectada</th>\n",
              "    </tr>\n",
              "  </thead>\n",
              "  <tbody>\n",
              "    <tr>\n",
              "      <th>0</th>\n",
              "      <td>12001058</td>\n",
              "      <td>B</td>\n",
              "      <td>Norte</td>\n",
              "      <td>AC</td>\n",
              "      <td>Cruzeiro do Sul</td>\n",
              "      <td>Sim</td>\n",
              "      <td>Sim</td>\n",
              "      <td>Não</td>\n",
              "      <td>NaN</td>\n",
              "      <td>Não</td>\n",
              "    </tr>\n",
              "    <tr>\n",
              "      <th>1</th>\n",
              "      <td>12001953</td>\n",
              "      <td>B</td>\n",
              "      <td>Norte</td>\n",
              "      <td>AC</td>\n",
              "      <td>Mâncio Lima</td>\n",
              "      <td>Sim</td>\n",
              "      <td>Sim</td>\n",
              "      <td>Não</td>\n",
              "      <td>NaN</td>\n",
              "      <td>Sim</td>\n",
              "    </tr>\n",
              "    <tr>\n",
              "      <th>2</th>\n",
              "      <td>12001996</td>\n",
              "      <td>B</td>\n",
              "      <td>Norte</td>\n",
              "      <td>AC</td>\n",
              "      <td>Mâncio Lima</td>\n",
              "      <td>Sim</td>\n",
              "      <td>Sim</td>\n",
              "      <td>Não</td>\n",
              "      <td>NaN</td>\n",
              "      <td>Não</td>\n",
              "    </tr>\n",
              "    <tr>\n",
              "      <th>3</th>\n",
              "      <td>12002003</td>\n",
              "      <td>B</td>\n",
              "      <td>Norte</td>\n",
              "      <td>AC</td>\n",
              "      <td>Mâncio Lima</td>\n",
              "      <td>Sim</td>\n",
              "      <td>Sim</td>\n",
              "      <td>Não</td>\n",
              "      <td>NaN</td>\n",
              "      <td>Não</td>\n",
              "    </tr>\n",
              "    <tr>\n",
              "      <th>4</th>\n",
              "      <td>12002054</td>\n",
              "      <td>B</td>\n",
              "      <td>Norte</td>\n",
              "      <td>AC</td>\n",
              "      <td>Mâncio Lima</td>\n",
              "      <td>Sim</td>\n",
              "      <td>Sim</td>\n",
              "      <td>Não</td>\n",
              "      <td>NaN</td>\n",
              "      <td>Não</td>\n",
              "    </tr>\n",
              "  </tbody>\n",
              "</table>\n",
              "</div>\n",
              "    <div class=\"colab-df-buttons\">\n",
              "\n",
              "  <div class=\"colab-df-container\">\n",
              "    <button class=\"colab-df-convert\" onclick=\"convertToInteractive('df-d11c2777-1bc1-4e44-baf0-7ff2ffe30894')\"\n",
              "            title=\"Convert this dataframe to an interactive table.\"\n",
              "            style=\"display:none;\">\n",
              "\n",
              "  <svg xmlns=\"http://www.w3.org/2000/svg\" height=\"24px\" viewBox=\"0 -960 960 960\">\n",
              "    <path d=\"M120-120v-720h720v720H120Zm60-500h600v-160H180v160Zm220 220h160v-160H400v160Zm0 220h160v-160H400v160ZM180-400h160v-160H180v160Zm440 0h160v-160H620v160ZM180-180h160v-160H180v160Zm440 0h160v-160H620v160Z\"/>\n",
              "  </svg>\n",
              "    </button>\n",
              "\n",
              "  <style>\n",
              "    .colab-df-container {\n",
              "      display:flex;\n",
              "      gap: 12px;\n",
              "    }\n",
              "\n",
              "    .colab-df-convert {\n",
              "      background-color: #E8F0FE;\n",
              "      border: none;\n",
              "      border-radius: 50%;\n",
              "      cursor: pointer;\n",
              "      display: none;\n",
              "      fill: #1967D2;\n",
              "      height: 32px;\n",
              "      padding: 0 0 0 0;\n",
              "      width: 32px;\n",
              "    }\n",
              "\n",
              "    .colab-df-convert:hover {\n",
              "      background-color: #E2EBFA;\n",
              "      box-shadow: 0px 1px 2px rgba(60, 64, 67, 0.3), 0px 1px 3px 1px rgba(60, 64, 67, 0.15);\n",
              "      fill: #174EA6;\n",
              "    }\n",
              "\n",
              "    .colab-df-buttons div {\n",
              "      margin-bottom: 4px;\n",
              "    }\n",
              "\n",
              "    [theme=dark] .colab-df-convert {\n",
              "      background-color: #3B4455;\n",
              "      fill: #D2E3FC;\n",
              "    }\n",
              "\n",
              "    [theme=dark] .colab-df-convert:hover {\n",
              "      background-color: #434B5C;\n",
              "      box-shadow: 0px 1px 3px 1px rgba(0, 0, 0, 0.15);\n",
              "      filter: drop-shadow(0px 1px 2px rgba(0, 0, 0, 0.3));\n",
              "      fill: #FFFFFF;\n",
              "    }\n",
              "  </style>\n",
              "\n",
              "    <script>\n",
              "      const buttonEl =\n",
              "        document.querySelector('#df-d11c2777-1bc1-4e44-baf0-7ff2ffe30894 button.colab-df-convert');\n",
              "      buttonEl.style.display =\n",
              "        google.colab.kernel.accessAllowed ? 'block' : 'none';\n",
              "\n",
              "      async function convertToInteractive(key) {\n",
              "        const element = document.querySelector('#df-d11c2777-1bc1-4e44-baf0-7ff2ffe30894');\n",
              "        const dataTable =\n",
              "          await google.colab.kernel.invokeFunction('convertToInteractive',\n",
              "                                                    [key], {});\n",
              "        if (!dataTable) return;\n",
              "\n",
              "        const docLinkHtml = 'Like what you see? Visit the ' +\n",
              "          '<a target=\"_blank\" href=https://colab.research.google.com/notebooks/data_table.ipynb>data table notebook</a>'\n",
              "          + ' to learn more about interactive tables.';\n",
              "        element.innerHTML = '';\n",
              "        dataTable['output_type'] = 'display_data';\n",
              "        await google.colab.output.renderOutput(dataTable, element);\n",
              "        const docLink = document.createElement('div');\n",
              "        docLink.innerHTML = docLinkHtml;\n",
              "        element.appendChild(docLink);\n",
              "      }\n",
              "    </script>\n",
              "  </div>\n",
              "\n",
              "\n",
              "    <div id=\"df-1d703e81-5249-4ce7-bbeb-6e8602b1e4d1\">\n",
              "      <button class=\"colab-df-quickchart\" onclick=\"quickchart('df-1d703e81-5249-4ce7-bbeb-6e8602b1e4d1')\"\n",
              "                title=\"Suggest charts\"\n",
              "                style=\"display:none;\">\n",
              "\n",
              "<svg xmlns=\"http://www.w3.org/2000/svg\" height=\"24px\"viewBox=\"0 0 24 24\"\n",
              "     width=\"24px\">\n",
              "    <g>\n",
              "        <path d=\"M19 3H5c-1.1 0-2 .9-2 2v14c0 1.1.9 2 2 2h14c1.1 0 2-.9 2-2V5c0-1.1-.9-2-2-2zM9 17H7v-7h2v7zm4 0h-2V7h2v10zm4 0h-2v-4h2v4z\"/>\n",
              "    </g>\n",
              "</svg>\n",
              "      </button>\n",
              "\n",
              "<style>\n",
              "  .colab-df-quickchart {\n",
              "      --bg-color: #E8F0FE;\n",
              "      --fill-color: #1967D2;\n",
              "      --hover-bg-color: #E2EBFA;\n",
              "      --hover-fill-color: #174EA6;\n",
              "      --disabled-fill-color: #AAA;\n",
              "      --disabled-bg-color: #DDD;\n",
              "  }\n",
              "\n",
              "  [theme=dark] .colab-df-quickchart {\n",
              "      --bg-color: #3B4455;\n",
              "      --fill-color: #D2E3FC;\n",
              "      --hover-bg-color: #434B5C;\n",
              "      --hover-fill-color: #FFFFFF;\n",
              "      --disabled-bg-color: #3B4455;\n",
              "      --disabled-fill-color: #666;\n",
              "  }\n",
              "\n",
              "  .colab-df-quickchart {\n",
              "    background-color: var(--bg-color);\n",
              "    border: none;\n",
              "    border-radius: 50%;\n",
              "    cursor: pointer;\n",
              "    display: none;\n",
              "    fill: var(--fill-color);\n",
              "    height: 32px;\n",
              "    padding: 0;\n",
              "    width: 32px;\n",
              "  }\n",
              "\n",
              "  .colab-df-quickchart:hover {\n",
              "    background-color: var(--hover-bg-color);\n",
              "    box-shadow: 0 1px 2px rgba(60, 64, 67, 0.3), 0 1px 3px 1px rgba(60, 64, 67, 0.15);\n",
              "    fill: var(--button-hover-fill-color);\n",
              "  }\n",
              "\n",
              "  .colab-df-quickchart-complete:disabled,\n",
              "  .colab-df-quickchart-complete:disabled:hover {\n",
              "    background-color: var(--disabled-bg-color);\n",
              "    fill: var(--disabled-fill-color);\n",
              "    box-shadow: none;\n",
              "  }\n",
              "\n",
              "  .colab-df-spinner {\n",
              "    border: 2px solid var(--fill-color);\n",
              "    border-color: transparent;\n",
              "    border-bottom-color: var(--fill-color);\n",
              "    animation:\n",
              "      spin 1s steps(1) infinite;\n",
              "  }\n",
              "\n",
              "  @keyframes spin {\n",
              "    0% {\n",
              "      border-color: transparent;\n",
              "      border-bottom-color: var(--fill-color);\n",
              "      border-left-color: var(--fill-color);\n",
              "    }\n",
              "    20% {\n",
              "      border-color: transparent;\n",
              "      border-left-color: var(--fill-color);\n",
              "      border-top-color: var(--fill-color);\n",
              "    }\n",
              "    30% {\n",
              "      border-color: transparent;\n",
              "      border-left-color: var(--fill-color);\n",
              "      border-top-color: var(--fill-color);\n",
              "      border-right-color: var(--fill-color);\n",
              "    }\n",
              "    40% {\n",
              "      border-color: transparent;\n",
              "      border-right-color: var(--fill-color);\n",
              "      border-top-color: var(--fill-color);\n",
              "    }\n",
              "    60% {\n",
              "      border-color: transparent;\n",
              "      border-right-color: var(--fill-color);\n",
              "    }\n",
              "    80% {\n",
              "      border-color: transparent;\n",
              "      border-right-color: var(--fill-color);\n",
              "      border-bottom-color: var(--fill-color);\n",
              "    }\n",
              "    90% {\n",
              "      border-color: transparent;\n",
              "      border-bottom-color: var(--fill-color);\n",
              "    }\n",
              "  }\n",
              "</style>\n",
              "\n",
              "      <script>\n",
              "        async function quickchart(key) {\n",
              "          const quickchartButtonEl =\n",
              "            document.querySelector('#' + key + ' button');\n",
              "          quickchartButtonEl.disabled = true;  // To prevent multiple clicks.\n",
              "          quickchartButtonEl.classList.add('colab-df-spinner');\n",
              "          try {\n",
              "            const charts = await google.colab.kernel.invokeFunction(\n",
              "                'suggestCharts', [key], {});\n",
              "          } catch (error) {\n",
              "            console.error('Error during call to suggestCharts:', error);\n",
              "          }\n",
              "          quickchartButtonEl.classList.remove('colab-df-spinner');\n",
              "          quickchartButtonEl.classList.add('colab-df-quickchart-complete');\n",
              "        }\n",
              "        (() => {\n",
              "          let quickchartButtonEl =\n",
              "            document.querySelector('#df-1d703e81-5249-4ce7-bbeb-6e8602b1e4d1 button');\n",
              "          quickchartButtonEl.style.display =\n",
              "            google.colab.kernel.accessAllowed ? 'block' : 'none';\n",
              "        })();\n",
              "      </script>\n",
              "    </div>\n",
              "\n",
              "    </div>\n",
              "  </div>\n"
            ],
            "application/vnd.google.colaboratory.intrinsic+json": {
              "type": "dataframe",
              "variable_name": "df_escopo",
              "summary": "{\n  \"name\": \"df_escopo\",\n  \"rows\": 15596,\n  \"fields\": [\n    {\n      \"column\": \"PROJETO\",\n      \"properties\": {\n        \"dtype\": \"number\",\n        \"std\": 9444828,\n        \"min\": 11000465,\n        \"max\": 52226352,\n        \"num_unique_values\": 15596,\n        \"samples\": [\n          41102606,\n          29107830,\n          29089697\n        ],\n        \"semantic_type\": \"\",\n        \"description\": \"\"\n      }\n    },\n    {\n      \"column\": \"Fase\",\n      \"properties\": {\n        \"dtype\": \"category\",\n        \"num_unique_values\": 2,\n        \"samples\": [\n          \"A\",\n          \"B\"\n        ],\n        \"semantic_type\": \"\",\n        \"description\": \"\"\n      }\n    },\n    {\n      \"column\": \"Regi\\u00e3o\",\n      \"properties\": {\n        \"dtype\": \"category\",\n        \"num_unique_values\": 6,\n        \"samples\": [\n          \"Norte\",\n          \"Nordeste II\"\n        ],\n        \"semantic_type\": \"\",\n        \"description\": \"\"\n      }\n    },\n    {\n      \"column\": \"UF\",\n      \"properties\": {\n        \"dtype\": \"category\",\n        \"num_unique_values\": 25,\n        \"samples\": [\n          \"MG\",\n          \"RJ\"\n        ],\n        \"semantic_type\": \"\",\n        \"description\": \"\"\n      }\n    },\n    {\n      \"column\": \"Munic\\u00edpio\",\n      \"properties\": {\n        \"dtype\": \"category\",\n        \"num_unique_values\": 1395,\n        \"samples\": [\n          \"Divina Pastora\",\n          \"Coronel Murta\"\n        ],\n        \"semantic_type\": \"\",\n        \"description\": \"\"\n      }\n    },\n    {\n      \"column\": \"Escopo_RE\",\n      \"properties\": {\n        \"dtype\": \"category\",\n        \"num_unique_values\": 2,\n        \"samples\": [\n          \"N\\u00e3o\",\n          \"Sim\"\n        ],\n        \"semantic_type\": \"\",\n        \"description\": \"\"\n      }\n    },\n    {\n      \"column\": \"Escopo_RI\",\n      \"properties\": {\n        \"dtype\": \"category\",\n        \"num_unique_values\": 2,\n        \"samples\": [\n          \"N\\u00e3o\",\n          \"Sim\"\n        ],\n        \"semantic_type\": \"\",\n        \"description\": \"\"\n      }\n    },\n    {\n      \"column\": \"Escopo_GS\",\n      \"properties\": {\n        \"dtype\": \"category\",\n        \"num_unique_values\": 2,\n        \"samples\": [\n          \"Sim\",\n          \"N\\u00e3o\"\n        ],\n        \"semantic_type\": \"\",\n        \"description\": \"\"\n      }\n    },\n    {\n      \"column\": \"Energia compart\",\n      \"properties\": {\n        \"dtype\": \"category\",\n        \"num_unique_values\": 2,\n        \"samples\": [\n          \"Sim\",\n          \"S\"\n        ],\n        \"semantic_type\": \"\",\n        \"description\": \"\"\n      }\n    },\n    {\n      \"column\": \"Escola Conectada\",\n      \"properties\": {\n        \"dtype\": \"category\",\n        \"num_unique_values\": 2,\n        \"samples\": [\n          \"Sim\",\n          \"N\\u00e3o\"\n        ],\n        \"semantic_type\": \"\",\n        \"description\": \"\"\n      }\n    }\n  ]\n}"
            }
          },
          "metadata": {},
          "execution_count": 51
        }
      ]
    },
    {
      "cell_type": "code",
      "source": [
        "df_escopo.describe()"
      ],
      "metadata": {
        "colab": {
          "base_uri": "https://localhost:8080/",
          "height": 300
        },
        "id": "MwbMc9NzwLQs",
        "outputId": "2d73fd62-38c0-4f83-de9d-870befef20f8"
      },
      "execution_count": null,
      "outputs": [
        {
          "output_type": "execute_result",
          "data": {
            "text/plain": [
              "            PROJETO\n",
              "count  1.559600e+04\n",
              "mean   2.288679e+07\n",
              "std    9.444828e+06\n",
              "min    1.100046e+07\n",
              "25%    1.501865e+07\n",
              "50%    2.120760e+07\n",
              "75%    2.906147e+07\n",
              "max    5.222635e+07"
            ],
            "text/html": [
              "\n",
              "  <div id=\"df-3483ff6a-65c4-4ac5-b510-047ca9dc4067\" class=\"colab-df-container\">\n",
              "    <div>\n",
              "<style scoped>\n",
              "    .dataframe tbody tr th:only-of-type {\n",
              "        vertical-align: middle;\n",
              "    }\n",
              "\n",
              "    .dataframe tbody tr th {\n",
              "        vertical-align: top;\n",
              "    }\n",
              "\n",
              "    .dataframe thead th {\n",
              "        text-align: right;\n",
              "    }\n",
              "</style>\n",
              "<table border=\"1\" class=\"dataframe\">\n",
              "  <thead>\n",
              "    <tr style=\"text-align: right;\">\n",
              "      <th></th>\n",
              "      <th>PROJETO</th>\n",
              "    </tr>\n",
              "  </thead>\n",
              "  <tbody>\n",
              "    <tr>\n",
              "      <th>count</th>\n",
              "      <td>1.559600e+04</td>\n",
              "    </tr>\n",
              "    <tr>\n",
              "      <th>mean</th>\n",
              "      <td>2.288679e+07</td>\n",
              "    </tr>\n",
              "    <tr>\n",
              "      <th>std</th>\n",
              "      <td>9.444828e+06</td>\n",
              "    </tr>\n",
              "    <tr>\n",
              "      <th>min</th>\n",
              "      <td>1.100046e+07</td>\n",
              "    </tr>\n",
              "    <tr>\n",
              "      <th>25%</th>\n",
              "      <td>1.501865e+07</td>\n",
              "    </tr>\n",
              "    <tr>\n",
              "      <th>50%</th>\n",
              "      <td>2.120760e+07</td>\n",
              "    </tr>\n",
              "    <tr>\n",
              "      <th>75%</th>\n",
              "      <td>2.906147e+07</td>\n",
              "    </tr>\n",
              "    <tr>\n",
              "      <th>max</th>\n",
              "      <td>5.222635e+07</td>\n",
              "    </tr>\n",
              "  </tbody>\n",
              "</table>\n",
              "</div>\n",
              "    <div class=\"colab-df-buttons\">\n",
              "\n",
              "  <div class=\"colab-df-container\">\n",
              "    <button class=\"colab-df-convert\" onclick=\"convertToInteractive('df-3483ff6a-65c4-4ac5-b510-047ca9dc4067')\"\n",
              "            title=\"Convert this dataframe to an interactive table.\"\n",
              "            style=\"display:none;\">\n",
              "\n",
              "  <svg xmlns=\"http://www.w3.org/2000/svg\" height=\"24px\" viewBox=\"0 -960 960 960\">\n",
              "    <path d=\"M120-120v-720h720v720H120Zm60-500h600v-160H180v160Zm220 220h160v-160H400v160Zm0 220h160v-160H400v160ZM180-400h160v-160H180v160Zm440 0h160v-160H620v160ZM180-180h160v-160H180v160Zm440 0h160v-160H620v160Z\"/>\n",
              "  </svg>\n",
              "    </button>\n",
              "\n",
              "  <style>\n",
              "    .colab-df-container {\n",
              "      display:flex;\n",
              "      gap: 12px;\n",
              "    }\n",
              "\n",
              "    .colab-df-convert {\n",
              "      background-color: #E8F0FE;\n",
              "      border: none;\n",
              "      border-radius: 50%;\n",
              "      cursor: pointer;\n",
              "      display: none;\n",
              "      fill: #1967D2;\n",
              "      height: 32px;\n",
              "      padding: 0 0 0 0;\n",
              "      width: 32px;\n",
              "    }\n",
              "\n",
              "    .colab-df-convert:hover {\n",
              "      background-color: #E2EBFA;\n",
              "      box-shadow: 0px 1px 2px rgba(60, 64, 67, 0.3), 0px 1px 3px 1px rgba(60, 64, 67, 0.15);\n",
              "      fill: #174EA6;\n",
              "    }\n",
              "\n",
              "    .colab-df-buttons div {\n",
              "      margin-bottom: 4px;\n",
              "    }\n",
              "\n",
              "    [theme=dark] .colab-df-convert {\n",
              "      background-color: #3B4455;\n",
              "      fill: #D2E3FC;\n",
              "    }\n",
              "\n",
              "    [theme=dark] .colab-df-convert:hover {\n",
              "      background-color: #434B5C;\n",
              "      box-shadow: 0px 1px 3px 1px rgba(0, 0, 0, 0.15);\n",
              "      filter: drop-shadow(0px 1px 2px rgba(0, 0, 0, 0.3));\n",
              "      fill: #FFFFFF;\n",
              "    }\n",
              "  </style>\n",
              "\n",
              "    <script>\n",
              "      const buttonEl =\n",
              "        document.querySelector('#df-3483ff6a-65c4-4ac5-b510-047ca9dc4067 button.colab-df-convert');\n",
              "      buttonEl.style.display =\n",
              "        google.colab.kernel.accessAllowed ? 'block' : 'none';\n",
              "\n",
              "      async function convertToInteractive(key) {\n",
              "        const element = document.querySelector('#df-3483ff6a-65c4-4ac5-b510-047ca9dc4067');\n",
              "        const dataTable =\n",
              "          await google.colab.kernel.invokeFunction('convertToInteractive',\n",
              "                                                    [key], {});\n",
              "        if (!dataTable) return;\n",
              "\n",
              "        const docLinkHtml = 'Like what you see? Visit the ' +\n",
              "          '<a target=\"_blank\" href=https://colab.research.google.com/notebooks/data_table.ipynb>data table notebook</a>'\n",
              "          + ' to learn more about interactive tables.';\n",
              "        element.innerHTML = '';\n",
              "        dataTable['output_type'] = 'display_data';\n",
              "        await google.colab.output.renderOutput(dataTable, element);\n",
              "        const docLink = document.createElement('div');\n",
              "        docLink.innerHTML = docLinkHtml;\n",
              "        element.appendChild(docLink);\n",
              "      }\n",
              "    </script>\n",
              "  </div>\n",
              "\n",
              "\n",
              "    <div id=\"df-f322e267-6d24-4cf4-a8af-928cde1c1213\">\n",
              "      <button class=\"colab-df-quickchart\" onclick=\"quickchart('df-f322e267-6d24-4cf4-a8af-928cde1c1213')\"\n",
              "                title=\"Suggest charts\"\n",
              "                style=\"display:none;\">\n",
              "\n",
              "<svg xmlns=\"http://www.w3.org/2000/svg\" height=\"24px\"viewBox=\"0 0 24 24\"\n",
              "     width=\"24px\">\n",
              "    <g>\n",
              "        <path d=\"M19 3H5c-1.1 0-2 .9-2 2v14c0 1.1.9 2 2 2h14c1.1 0 2-.9 2-2V5c0-1.1-.9-2-2-2zM9 17H7v-7h2v7zm4 0h-2V7h2v10zm4 0h-2v-4h2v4z\"/>\n",
              "    </g>\n",
              "</svg>\n",
              "      </button>\n",
              "\n",
              "<style>\n",
              "  .colab-df-quickchart {\n",
              "      --bg-color: #E8F0FE;\n",
              "      --fill-color: #1967D2;\n",
              "      --hover-bg-color: #E2EBFA;\n",
              "      --hover-fill-color: #174EA6;\n",
              "      --disabled-fill-color: #AAA;\n",
              "      --disabled-bg-color: #DDD;\n",
              "  }\n",
              "\n",
              "  [theme=dark] .colab-df-quickchart {\n",
              "      --bg-color: #3B4455;\n",
              "      --fill-color: #D2E3FC;\n",
              "      --hover-bg-color: #434B5C;\n",
              "      --hover-fill-color: #FFFFFF;\n",
              "      --disabled-bg-color: #3B4455;\n",
              "      --disabled-fill-color: #666;\n",
              "  }\n",
              "\n",
              "  .colab-df-quickchart {\n",
              "    background-color: var(--bg-color);\n",
              "    border: none;\n",
              "    border-radius: 50%;\n",
              "    cursor: pointer;\n",
              "    display: none;\n",
              "    fill: var(--fill-color);\n",
              "    height: 32px;\n",
              "    padding: 0;\n",
              "    width: 32px;\n",
              "  }\n",
              "\n",
              "  .colab-df-quickchart:hover {\n",
              "    background-color: var(--hover-bg-color);\n",
              "    box-shadow: 0 1px 2px rgba(60, 64, 67, 0.3), 0 1px 3px 1px rgba(60, 64, 67, 0.15);\n",
              "    fill: var(--button-hover-fill-color);\n",
              "  }\n",
              "\n",
              "  .colab-df-quickchart-complete:disabled,\n",
              "  .colab-df-quickchart-complete:disabled:hover {\n",
              "    background-color: var(--disabled-bg-color);\n",
              "    fill: var(--disabled-fill-color);\n",
              "    box-shadow: none;\n",
              "  }\n",
              "\n",
              "  .colab-df-spinner {\n",
              "    border: 2px solid var(--fill-color);\n",
              "    border-color: transparent;\n",
              "    border-bottom-color: var(--fill-color);\n",
              "    animation:\n",
              "      spin 1s steps(1) infinite;\n",
              "  }\n",
              "\n",
              "  @keyframes spin {\n",
              "    0% {\n",
              "      border-color: transparent;\n",
              "      border-bottom-color: var(--fill-color);\n",
              "      border-left-color: var(--fill-color);\n",
              "    }\n",
              "    20% {\n",
              "      border-color: transparent;\n",
              "      border-left-color: var(--fill-color);\n",
              "      border-top-color: var(--fill-color);\n",
              "    }\n",
              "    30% {\n",
              "      border-color: transparent;\n",
              "      border-left-color: var(--fill-color);\n",
              "      border-top-color: var(--fill-color);\n",
              "      border-right-color: var(--fill-color);\n",
              "    }\n",
              "    40% {\n",
              "      border-color: transparent;\n",
              "      border-right-color: var(--fill-color);\n",
              "      border-top-color: var(--fill-color);\n",
              "    }\n",
              "    60% {\n",
              "      border-color: transparent;\n",
              "      border-right-color: var(--fill-color);\n",
              "    }\n",
              "    80% {\n",
              "      border-color: transparent;\n",
              "      border-right-color: var(--fill-color);\n",
              "      border-bottom-color: var(--fill-color);\n",
              "    }\n",
              "    90% {\n",
              "      border-color: transparent;\n",
              "      border-bottom-color: var(--fill-color);\n",
              "    }\n",
              "  }\n",
              "</style>\n",
              "\n",
              "      <script>\n",
              "        async function quickchart(key) {\n",
              "          const quickchartButtonEl =\n",
              "            document.querySelector('#' + key + ' button');\n",
              "          quickchartButtonEl.disabled = true;  // To prevent multiple clicks.\n",
              "          quickchartButtonEl.classList.add('colab-df-spinner');\n",
              "          try {\n",
              "            const charts = await google.colab.kernel.invokeFunction(\n",
              "                'suggestCharts', [key], {});\n",
              "          } catch (error) {\n",
              "            console.error('Error during call to suggestCharts:', error);\n",
              "          }\n",
              "          quickchartButtonEl.classList.remove('colab-df-spinner');\n",
              "          quickchartButtonEl.classList.add('colab-df-quickchart-complete');\n",
              "        }\n",
              "        (() => {\n",
              "          let quickchartButtonEl =\n",
              "            document.querySelector('#df-f322e267-6d24-4cf4-a8af-928cde1c1213 button');\n",
              "          quickchartButtonEl.style.display =\n",
              "            google.colab.kernel.accessAllowed ? 'block' : 'none';\n",
              "        })();\n",
              "      </script>\n",
              "    </div>\n",
              "\n",
              "    </div>\n",
              "  </div>\n"
            ],
            "application/vnd.google.colaboratory.intrinsic+json": {
              "type": "dataframe",
              "summary": "{\n  \"name\": \"df_escopo\",\n  \"rows\": 8,\n  \"fields\": [\n    {\n      \"column\": \"PROJETO\",\n      \"properties\": {\n        \"dtype\": \"number\",\n        \"std\": 15797560.932737008,\n        \"min\": 15596.0,\n        \"max\": 52226352.0,\n        \"num_unique_values\": 8,\n        \"samples\": [\n          22886785.827712234,\n          21207600.0,\n          15596.0\n        ],\n        \"semantic_type\": \"\",\n        \"description\": \"\"\n      }\n    }\n  ]\n}"
            }
          },
          "metadata": {},
          "execution_count": 52
        }
      ]
    },
    {
      "cell_type": "code",
      "source": [
        "print(\"\\n--- Contagem de valores únicos por coluna em df_escopo ---\")\n",
        "for col in df_escopo.columns:\n",
        "    print(f\"- {col}: {df_escopo[col].nunique()} valores únicos\")"
      ],
      "metadata": {
        "colab": {
          "base_uri": "https://localhost:8080/"
        },
        "id": "TDJ8LnHSqs1n",
        "outputId": "6773e385-965c-4ac2-b5d5-278529e9defc"
      },
      "execution_count": null,
      "outputs": [
        {
          "output_type": "stream",
          "name": "stdout",
          "text": [
            "\n",
            "--- Contagem de valores únicos por coluna em df_escopo ---\n",
            "- PROJETO: 15596 valores únicos\n",
            "- Fase: 2 valores únicos\n",
            "- Região: 6 valores únicos\n",
            "- UF: 25 valores únicos\n",
            "- Município: 1395 valores únicos\n",
            "- Escopo_RE: 2 valores únicos\n",
            "- Escopo_RI: 2 valores únicos\n",
            "- Escopo_GS: 2 valores únicos\n",
            "- Energia compart: 2 valores únicos\n",
            "- Escola Conectada: 2 valores únicos\n"
          ]
        }
      ]
    },
    {
      "cell_type": "code",
      "source": [
        "print(\"\\n--- Checando valores da coluna 'Energia compart' ---\")\n",
        "\n",
        "# Verificar os valores únicos e suas contagens antes do tratamento\n",
        "print(\"Valores únicos e contagem de 'Energia compart' ANTES do tratamento:\")\n",
        "print(df_escopo['Energia compart'].value_counts(dropna=False)) # dropna=False para incluir NaN"
      ],
      "metadata": {
        "colab": {
          "base_uri": "https://localhost:8080/"
        },
        "id": "qHFxGbWglSoD",
        "outputId": "e0e275ac-eebe-4379-f118-1b865f183520"
      },
      "execution_count": null,
      "outputs": [
        {
          "output_type": "stream",
          "name": "stdout",
          "text": [
            "\n",
            "--- Checando valores da coluna 'Energia compart' ---\n",
            "Valores únicos e contagem de 'Energia compart' ANTES do tratamento:\n",
            "Energia compart\n",
            "NaN    15473\n",
            "Sim      104\n",
            "S         19\n",
            "Name: count, dtype: int64\n"
          ]
        }
      ]
    },
    {
      "cell_type": "markdown",
      "source": [
        "## Tratamento dos Dataframes"
      ],
      "metadata": {
        "id": "g4LGP8WQZDq4"
      }
    },
    {
      "cell_type": "markdown",
      "source": [
        "Após verificações dos 2 dataframes, identifiquei algumas tratativas necessárias, antes de seguirmos com o trabalho."
      ],
      "metadata": {
        "id": "XFEU5MugZL_T"
      }
    },
    {
      "cell_type": "markdown",
      "source": [
        "### 1. Conversão da coluna PROJETO para tipo string (object)\n",
        "\n",
        "**Justificativa**\n",
        "*   Inconsistência de Tipos: A verificação inicial com df.info() mostrou que a coluna PROJETO estava em diferentes tipos de dados entre df_projetos (object) e df_escopo (int64). Para que a operação de junção (merge) entre os dois DataFrames funcione corretamente e sem perda de dados, é mandatório que a coluna chave tenha o mesmo tipo em ambos.\n",
        "*   Natureza do Dado: PROJETO representa um identificador único de escola/projeto, e identificadores, mesmo que pareçam numéricos, não são usados em cálculos matemáticos. Tratá-los como strings evita problemas de arredondamento, representação de zeros à esquerda e garante que sejam tratados como categorias ou chaves.<br>\n",
        "\n",
        "\n",
        "**Ação**\n",
        "\n",
        "*   df_projetos['PROJETO'] = df_projetos['PROJETO'].astype(str)\n",
        "*   df_escopo['PROJETO'] = df_escopo['PROJETO'].astype(str)"
      ],
      "metadata": {
        "id": "IjFAgboJm1_U"
      }
    },
    {
      "cell_type": "code",
      "source": [
        "df_projetos['PROJETO'] = df_projetos['PROJETO'].astype(str)\n",
        "df_escopo['PROJETO'] = df_escopo['PROJETO'].astype(str)\n",
        "print(\"Coluna 'PROJETO' em ambos os DataFrames convertida para string (object).\")"
      ],
      "metadata": {
        "colab": {
          "base_uri": "https://localhost:8080/"
        },
        "id": "IaevfpHQDfgz",
        "outputId": "66660305-54dd-4376-af4c-d174dd42f74d"
      },
      "execution_count": null,
      "outputs": [
        {
          "output_type": "stream",
          "name": "stdout",
          "text": [
            "Coluna 'PROJETO' em ambos os DataFrames convertida para string (object).\n"
          ]
        }
      ]
    },
    {
      "cell_type": "markdown",
      "source": [],
      "metadata": {
        "id": "kkyxppakI0Pd"
      }
    },
    {
      "cell_type": "markdown",
      "source": [
        "### 2. Conversão da coluna DATA_VALIDACAO_SALA_TECNICA para tipo datetime\n",
        "\n",
        "**Justificativa**\n",
        "\n",
        "*   Tipo Incorreto: A verificação com df.info() mostrou que a coluna DATA_VALIDACAO_SALA_TECNICA estava como object (string). Embora as datas fossem visíveis em df.head(), elas não podiam ser usadas para operações temporais.\n",
        "*   Necessidade Analítica: Para realizar qualquer análise de tempo (ex: calcular duração de projetos, identificar projetos concluídos até certa data, ou ordenar eventos cronologicamente), é essencial que a coluna esteja no formato datetime.\n",
        "*   Valores Ausentes: A coluna possui valores NaN (ausentes), o que indica que nem todos os projetos têm essa data registrada. A conversão com errors='coerce' permite que esses valores ausentes sejam mantidos como NaT (Not a Time), o que é o valor padrão para datas ausentes.<br>\n",
        "\n",
        "\n",
        "**Ação**\n",
        "\n",
        "*   df_projetos['DATA_VALIDACAO_SALA_TECNICA'] = pd.to_datetime(df_projetos['DATA_VALIDACAO_SALA_TECNICA'], format='%d/%m/%Y %H:%M:%S', errors='coerce')"
      ],
      "metadata": {
        "id": "TE1O2QUCBd1I"
      }
    },
    {
      "cell_type": "code",
      "source": [
        "df_projetos['DATA_VALIDACAO_SALA_TECNICA'] = pd.to_datetime(df_projetos['DATA_VALIDACAO_SALA_TECNICA'], format='%d/%m/%Y %H:%M:%S', errors='coerce')\n",
        "print(\"Coluna 'DATA_VALIDACAO_SALA_TECNICA' em df_projetos convertida para datetime.\")"
      ],
      "metadata": {
        "colab": {
          "base_uri": "https://localhost:8080/"
        },
        "id": "QRN1dNemDi7w",
        "outputId": "b72d1729-73d2-4e84-a76f-9a01706b8802"
      },
      "execution_count": null,
      "outputs": [
        {
          "output_type": "stream",
          "name": "stdout",
          "text": [
            "Coluna 'DATA_VALIDACAO_SALA_TECNICA' em df_projetos convertida para datetime.\n"
          ]
        }
      ]
    },
    {
      "cell_type": "markdown",
      "source": [
        "### 3. Padronização das colunas de Escopo (Escopo_RE, Escopo_RI, Escopo_GS, Escola Conectada) e conversão para boleano\n",
        "\n",
        "**Justificativa**\n",
        "\n",
        "*   Inconsistência de Valores: A análise de value_counts() anterior para estas colunas (Escopo_RE, Escopo_RI, Escopo_GS) indicou 4 valores únicos, quando o esperado seriam apenas \"Sim\" e \"Não\". Isso sugere a presença de variações como capitalização diferente (\"sim\", \"SIM\"), espaços em branco, ou talvez NaNs ou outros valores inesperados.\n",
        "*   Necessidade Analítica: Para que essas colunas possam ser usadas como flags binárias (True/False ou 1/0) na análise e na engenharia de features para o modelo de classificação, é crucial que seus valores sejam padronizados para uma representação consistente de \"Sim\" ou \"Não\".<br>\n",
        "\n",
        "**Ação**\n",
        "\n",
        "Padronizar \"S\" e \"N\" para \"Sim\" e \"Não\" e depois converter para *true* e *false*.\n",
        "\n",
        "*   for col in ['Escopo_RE', 'Escopo_RI', 'Escopo_GS', 'Escola Conectada']:<br>\n",
        "    temp_col = df_escopo[col].astype(str).str.strip().str.capitalize()<br>\n",
        "    temp_col = temp_col.replace({'S': 'Sim', 'N': 'Não'})<br>\n",
        "    df_escopo[col] = temp_col.apply(lambda x: True if x == 'Sim' else False)\n",
        "    "
      ],
      "metadata": {
        "id": "P67S0pUBC1uJ"
      }
    },
    {
      "cell_type": "code",
      "source": [
        "import pandas as pd # Garanta que pandas esteja importado\n",
        "\n",
        "print(\"\\n--- Padronização das colunas de Escopo e conversão para BOLEANO (CORRIGIDO) ---\")\n",
        "for col in ['Escopo_RE', 'Escopo_RI', 'Escopo_GS', 'Escola Conectada']:\n",
        "    # 1. Converte para string, remove espaços e capitaliza\n",
        "    temp_col = df_escopo[col].astype(str).str.strip().str.capitalize()\n",
        "\n",
        "    # 2. Substitui 'S' por 'Sim' e 'N' por 'Não'\n",
        "    temp_col = temp_col.replace({'S': 'Sim', 'N': 'Não'})\n",
        "\n",
        "    # 3. Mapeia 'Sim' para True e TUDO O MAIS para False\n",
        "    # Isso garante que qualquer valor que não seja 'Sim' explicitamente\n",
        "    # (incluindo 'Não', NaN, ou qualquer lixo) se torne False.\n",
        "    df_escopo[col] = temp_col.apply(lambda x: True if x == 'Sim' else False)\n",
        "\n",
        "    print(f\"Coluna '{col}' padronizada e convertida para True/False. Novas contagens:\")\n",
        "    print(df_escopo[col].value_counts(dropna=False))\n",
        "\n",
        "print(\"\\n--- Padronização das colunas de Escopo concluída! ---\")"
      ],
      "metadata": {
        "id": "T51WRncLvO89",
        "outputId": "e72c7204-7a65-4245-fa7e-7abb8741f208",
        "colab": {
          "base_uri": "https://localhost:8080/"
        }
      },
      "execution_count": null,
      "outputs": [
        {
          "output_type": "stream",
          "name": "stdout",
          "text": [
            "\n",
            "--- Padronização das colunas de Escopo e conversão para BOLEANO (CORRIGIDO) ---\n",
            "Coluna 'Escopo_RE' padronizada e convertida para True/False. Novas contagens:\n",
            "Escopo_RE\n",
            "True     15431\n",
            "False      165\n",
            "Name: count, dtype: int64\n",
            "Coluna 'Escopo_RI' padronizada e convertida para True/False. Novas contagens:\n",
            "Escopo_RI\n",
            "True     15582\n",
            "False       14\n",
            "Name: count, dtype: int64\n",
            "Coluna 'Escopo_GS' padronizada e convertida para True/False. Novas contagens:\n",
            "Escopo_GS\n",
            "False    14290\n",
            "True      1306\n",
            "Name: count, dtype: int64\n",
            "Coluna 'Escola Conectada' padronizada e convertida para True/False. Novas contagens:\n",
            "Escola Conectada\n",
            "False    11492\n",
            "True      4104\n",
            "Name: count, dtype: int64\n",
            "\n",
            "--- Padronização das colunas de Escopo concluída! ---\n"
          ]
        }
      ]
    },
    {
      "cell_type": "markdown",
      "source": [
        "### 4. Conversão da coluna CODCT para tipo string (object)\n",
        "\n",
        "**Justificativa**\n",
        "\n",
        "*   Apesar de ser numérica, o número extremamente baixo de valores únicos para uma coluna que representa um \"Código de Contrato\" indica que ela é uma variável categórica e não uma variável para a qual operações matemáticas (soma, média, etc.) fazem sentido. Manter como int64 pode levar a interpretações errôneas ou a um uso inadequado em modelos. Converter para object (string) é a prática recomendada para identificadores ou variáveis categóricas discretas que não são ordinais. Optar por object é seguro e flexível.<br>\n",
        "\n",
        "**Ação**\n",
        "*   df_projetos['CODCT'] = df_projetos['CODCT'].astype(str)"
      ],
      "metadata": {
        "id": "LsoeXKDYJkGy"
      }
    },
    {
      "cell_type": "code",
      "source": [
        "df_projetos['CODCT'] = df_projetos['CODCT'].astype(str)\n",
        "print(\"Coluna 'CODCT' em df_projetos convertida para string (object).\")"
      ],
      "metadata": {
        "colab": {
          "base_uri": "https://localhost:8080/"
        },
        "id": "EhY4D0oA-m4m",
        "outputId": "567d2ca4-44d7-4f7a-b285-c1753a796bae"
      },
      "execution_count": null,
      "outputs": [
        {
          "output_type": "stream",
          "name": "stdout",
          "text": [
            "Coluna 'CODCT' em df_projetos convertida para string (object).\n"
          ]
        }
      ]
    },
    {
      "cell_type": "markdown",
      "source": [
        "###5. Padronização do agrupamento na coluna **df_projetos['Tipo Obra']**"
      ],
      "metadata": {
        "id": "z0f4yh2d_8E0"
      }
    },
    {
      "cell_type": "markdown",
      "source": [
        "**Justificativa**\n",
        "\n",
        "*   Esse atributo contem os valores *Rede Interna*, *Rede de Acesso*, *Projeto Especial*, *Gerador Solar* e *Aceitação Final*. Será necessário substituir o termo *Rede de Acesso* para *Rede Externa*, com objetivo de otimizar a validação desta etapa da obra, levando o escopo em consideração.<br>\n",
        "\n",
        "**Ação**\n",
        "*   df_projetos['Tipo Obra'] = df_projetos['Tipo Obra'].replace('Rede de Acesso', 'Rede Externa')"
      ],
      "metadata": {
        "id": "RIFKt59qAaQY"
      }
    },
    {
      "cell_type": "code",
      "source": [
        "df_projetos['Tipo Obra'] = df_projetos['Tipo Obra'].replace('Rede de Acesso', 'Rede Externa')\n",
        "print(\"Substituição concluída em 'Tipo Obra'.\")"
      ],
      "metadata": {
        "colab": {
          "base_uri": "https://localhost:8080/"
        },
        "id": "ZkxMjkG_BUPO",
        "outputId": "d80fda93-e243-4e1e-cd2b-392c9e71ad48"
      },
      "execution_count": null,
      "outputs": [
        {
          "output_type": "stream",
          "name": "stdout",
          "text": [
            "Substituição concluída em 'Tipo Obra'.\n"
          ]
        }
      ]
    },
    {
      "cell_type": "markdown",
      "source": [
        "### 6. Padronização do atributo **df_projetos['STATUS_RDO']**"
      ],
      "metadata": {
        "id": "mSprO3wfUqNs"
      }
    },
    {
      "cell_type": "markdown",
      "source": [
        "**Justificativa**<br>\n",
        "*   O atributo pode conter espaços desnecessários. Por isso é uma boa prátiva remover qualquer espaço indesejado, pois esse atributo está diretamente ligado a validação de conclusão da etapa.\n",
        "\n",
        "**Ação**<br>\n",
        "*   df_projetos['STATUS_RDO'] = df_projetos['STATUS_RDO'].astype(str).str.strip()"
      ],
      "metadata": {
        "id": "m0Q-ko_6U2AJ"
      }
    },
    {
      "cell_type": "code",
      "source": [
        "print(\"\\n--- Aplicando tratamento: Padronizando 'STATUS_RDO' em df_projetos ---\")\n",
        "df_projetos['STATUS_RDO'] = df_projetos['STATUS_RDO'].astype(str).str.strip()\n",
        "print(\"Coluna 'STATUS_RDO' padronizada (espaços removidos).\")"
      ],
      "metadata": {
        "colab": {
          "base_uri": "https://localhost:8080/"
        },
        "id": "Lu0ru_xaVISc",
        "outputId": "4da104cd-59a0-4e5c-e0e1-307b1371789b"
      },
      "execution_count": null,
      "outputs": [
        {
          "output_type": "stream",
          "name": "stdout",
          "text": [
            "\n",
            "--- Aplicando tratamento: Padronizando 'STATUS_RDO' em df_projetos ---\n",
            "Coluna 'STATUS_RDO' padronizada (espaços removidos).\n"
          ]
        }
      ]
    },
    {
      "cell_type": "markdown",
      "source": [
        "###7. Remoção da coluna **df_escopo['Energia compart']**"
      ],
      "metadata": {
        "id": "oqzLVMlY9abw"
      }
    },
    {
      "cell_type": "markdown",
      "source": [
        "**Justificativa**<br>\n",
        "*   A coluna é irrelevante para a análise.\n",
        "\n",
        "**Ação**<br>\n",
        "*   df_escopo = df_escopo.drop(columns=['Energia compart'])"
      ],
      "metadata": {
        "id": "fKJfYhYC9_sZ"
      }
    },
    {
      "cell_type": "code",
      "source": [
        "print(\"\\n--- Removendo a coluna 'Energia compart' de df_escopo ---\")\n",
        "df_escopo = df_escopo.drop(columns=['Energia compart'])\n",
        "print(\"Coluna 'Energia compart' removida com sucesso.\")\n",
        "print(f\"Novas colunas em df_escopo: {df_escopo.columns.tolist()}\")"
      ],
      "metadata": {
        "colab": {
          "base_uri": "https://localhost:8080/"
        },
        "id": "enpl3rEY-dRt",
        "outputId": "e910c9dc-9d02-49c4-9d38-0fede8d25140"
      },
      "execution_count": null,
      "outputs": [
        {
          "output_type": "stream",
          "name": "stdout",
          "text": [
            "\n",
            "--- Removendo a coluna 'Energia compart' de df_escopo ---\n",
            "Coluna 'Energia compart' removida com sucesso.\n",
            "Novas colunas em df_escopo: ['PROJETO', 'Fase', 'Região', 'UF', 'Município', 'Escopo_RE', 'Escopo_RI', 'Escopo_GS', 'Escola Conectada']\n"
          ]
        }
      ]
    },
    {
      "cell_type": "markdown",
      "source": [
        "### Verificação dos DataFrames após correções"
      ],
      "metadata": {
        "id": "FXITOJWwHKws"
      }
    },
    {
      "cell_type": "markdown",
      "source": [
        "Recomendado checar se todas as etapas de tratamento dos DataFrames funcionaram."
      ],
      "metadata": {
        "id": "RylwdZc_Mhjt"
      }
    },
    {
      "cell_type": "markdown",
      "source": [
        "**DataFrame Projetos**"
      ],
      "metadata": {
        "id": "R37BUj0SMBI7"
      }
    },
    {
      "cell_type": "code",
      "source": [
        "print(\"\\n--- Informações de df_projetos APÓS TODOS OS TRATAMENTOS ---\")\n",
        "df_projetos.info()\n",
        "print(\"\\n--- Primeiras 5 linhas de df_projetos APÓS TODOS OS TRATAMENTOS ---\")\n",
        "print(df_projetos.head())\n",
        "print(\"\\n--- Contagem de valores únicos por coluna em df_projetos ---\")\n",
        "for col in df_projetos.columns:\n",
        "    print(f\"- {col}: {df_projetos[col].nunique()} valores únicos\")\n",
        "print(\"\\n--- Contagem de valores para 'Tipo Obra' (df_projetos) APÓS TRATAMENTO---\")\n",
        "print(df_projetos['Tipo Obra'].value_counts(dropna=False))\n",
        "\n",
        "print(\"\\n--- Contagem de valores para 'STATUS_RDO' (df_projetos) ---\")\n",
        "print(df_projetos['STATUS_RDO'].value_counts(dropna=False))"
      ],
      "metadata": {
        "id": "v1aVIgxqH8Xo",
        "outputId": "ff1a7081-9457-41af-c8c1-2344fd7b2b19",
        "colab": {
          "base_uri": "https://localhost:8080/"
        }
      },
      "execution_count": null,
      "outputs": [
        {
          "output_type": "stream",
          "name": "stdout",
          "text": [
            "\n",
            "--- Informações de df_projetos APÓS TODOS OS TRATAMENTOS ---\n",
            "<class 'pandas.core.frame.DataFrame'>\n",
            "RangeIndex: 25194 entries, 0 to 25193\n",
            "Data columns (total 7 columns):\n",
            " #   Column                       Non-Null Count  Dtype         \n",
            "---  ------                       --------------  -----         \n",
            " 0   CODCT                        25194 non-null  object        \n",
            " 1   PROJETO                      25194 non-null  object        \n",
            " 2   Obra                         25194 non-null  object        \n",
            " 3   Tipo Obra                    25194 non-null  object        \n",
            " 4   RDO                          25194 non-null  object        \n",
            " 5   STATUS_RDO                   25194 non-null  object        \n",
            " 6   DATA_VALIDACAO_SALA_TECNICA  20187 non-null  datetime64[ns]\n",
            "dtypes: datetime64[ns](1), object(6)\n",
            "memory usage: 1.3+ MB\n",
            "\n",
            "--- Primeiras 5 linhas de df_projetos APÓS TODOS OS TRATAMENTOS ---\n",
            "  CODCT   PROJETO                    Obra     Tipo Obra              RDO  \\\n",
            "0     5  21023255  3-INSTALAÇÃO_DE_ACESSO  Rede Externa  RDO-00000000001   \n",
            "1     5  22013563  3-INSTALAÇÃO_DE_ACESSO  Rede Externa  RDO-00000000001   \n",
            "2     5  22123024  3-INSTALAÇÃO_DE_ACESSO  Rede Externa  RDO-00000000001   \n",
            "3     5  22141456  3-INSTALAÇÃO_DE_ACESSO  Rede Externa  RDO-00000000001   \n",
            "4     5  24011223  3-INSTALAÇÃO_DE_ACESSO  Rede Externa  RDO-00000000001   \n",
            "\n",
            "              STATUS_RDO DATA_VALIDACAO_SALA_TECNICA  \n",
            "0  Aprovado Sala Técnica                  2025-07-03  \n",
            "1  Aprovado Sala Técnica                  2025-06-05  \n",
            "2  Aprovado Sala Técnica                  2025-06-06  \n",
            "3  Aprovado Sala Técnica                  2025-07-03  \n",
            "4  Aprovado Sala Técnica                  2025-06-06  \n",
            "\n",
            "--- Contagem de valores únicos por coluna em df_projetos ---\n",
            "- CODCT: 7 valores únicos\n",
            "- PROJETO: 14435 valores únicos\n",
            "- Obra: 5 valores únicos\n",
            "- Tipo Obra: 3 valores únicos\n",
            "- RDO: 102 valores únicos\n",
            "- STATUS_RDO: 5 valores únicos\n",
            "- DATA_VALIDACAO_SALA_TECNICA: 233 valores únicos\n",
            "\n",
            "--- Contagem de valores para 'Tipo Obra' (df_projetos) APÓS TRATAMENTO---\n",
            "Tipo Obra\n",
            "Rede Interna     13541\n",
            "Rede Externa     10459\n",
            "Gerador Solar     1194\n",
            "Name: count, dtype: int64\n",
            "\n",
            "--- Contagem de valores para 'STATUS_RDO' (df_projetos) ---\n",
            "STATUS_RDO\n",
            "Aprovado Sala Técnica            19903\n",
            "Não se aplica                     3077\n",
            "Cancelado                         2019\n",
            "Aguardando Aval. Supervisor        139\n",
            "Aguardando Aval. Sala Técnica       56\n",
            "Name: count, dtype: int64\n"
          ]
        }
      ]
    },
    {
      "cell_type": "markdown",
      "source": [
        "**DataFrame Escopo**"
      ],
      "metadata": {
        "id": "c7dVwctJMHX4"
      }
    },
    {
      "cell_type": "code",
      "source": [
        "print(\"\\n\\n--- Informações de df_escopo APÓS TODOS OS TRATAMENTOS ---\")\n",
        "df_escopo.info()\n",
        "print(\"\\n--- Primeiras 5 linhas de df_escopo APÓS TODOS OS TRATAMENTOS ---\")\n",
        "print(df_escopo.head())\n",
        "print(\"\\n--- Contagem de valores únicos por coluna em df_escopo ---\")\n",
        "for col in df_escopo.columns:\n",
        "    print(f\"- {col}: {df_escopo[col].nunique()} valores únicos\")\n",
        "\n",
        "print(\"\\n--- Contagem de valores para 'Escopo_RE' (df_escopo) ---\")\n",
        "print(df_escopo['Escopo_RE'].value_counts(dropna=False))\n",
        "print(\"\\n--- Contagem de valores para 'Escopo_RI' (df_escopo) ---\")\n",
        "print(df_escopo['Escopo_RI'].value_counts(dropna=False))\n",
        "print(\"\\n--- Contagem de valores para 'Escopo_GS' (df_escopo) ---\")\n",
        "print(df_escopo['Escopo_GS'].value_counts(dropna=False))"
      ],
      "metadata": {
        "id": "EdPJ-wPPLMJB",
        "outputId": "513c632c-868e-4815-98c4-20c19119b5a8",
        "colab": {
          "base_uri": "https://localhost:8080/"
        }
      },
      "execution_count": null,
      "outputs": [
        {
          "output_type": "stream",
          "name": "stdout",
          "text": [
            "\n",
            "\n",
            "--- Informações de df_escopo APÓS TODOS OS TRATAMENTOS ---\n",
            "<class 'pandas.core.frame.DataFrame'>\n",
            "RangeIndex: 15596 entries, 0 to 15595\n",
            "Data columns (total 9 columns):\n",
            " #   Column            Non-Null Count  Dtype \n",
            "---  ------            --------------  ----- \n",
            " 0   PROJETO           15596 non-null  object\n",
            " 1   Fase              15596 non-null  object\n",
            " 2   Região            15596 non-null  object\n",
            " 3   UF                15596 non-null  object\n",
            " 4   Município         15596 non-null  object\n",
            " 5   Escopo_RE         15596 non-null  bool  \n",
            " 6   Escopo_RI         15596 non-null  bool  \n",
            " 7   Escopo_GS         15596 non-null  bool  \n",
            " 8   Escola Conectada  15596 non-null  bool  \n",
            "dtypes: bool(4), object(5)\n",
            "memory usage: 670.3+ KB\n",
            "\n",
            "--- Primeiras 5 linhas de df_escopo APÓS TODOS OS TRATAMENTOS ---\n",
            "    PROJETO Fase Região  UF        Município  Escopo_RE  Escopo_RI  Escopo_GS  \\\n",
            "0  12001058    B  Norte  AC  Cruzeiro do Sul       True       True      False   \n",
            "1  12001953    B  Norte  AC      Mâncio Lima       True       True      False   \n",
            "2  12001996    B  Norte  AC      Mâncio Lima       True       True      False   \n",
            "3  12002003    B  Norte  AC      Mâncio Lima       True       True      False   \n",
            "4  12002054    B  Norte  AC      Mâncio Lima       True       True      False   \n",
            "\n",
            "   Escola Conectada  \n",
            "0             False  \n",
            "1              True  \n",
            "2             False  \n",
            "3             False  \n",
            "4             False  \n",
            "\n",
            "--- Contagem de valores únicos por coluna em df_escopo ---\n",
            "- PROJETO: 15596 valores únicos\n",
            "- Fase: 2 valores únicos\n",
            "- Região: 6 valores únicos\n",
            "- UF: 25 valores únicos\n",
            "- Município: 1395 valores únicos\n",
            "- Escopo_RE: 2 valores únicos\n",
            "- Escopo_RI: 2 valores únicos\n",
            "- Escopo_GS: 2 valores únicos\n",
            "- Escola Conectada: 2 valores únicos\n",
            "\n",
            "--- Contagem de valores para 'Escopo_RE' (df_escopo) ---\n",
            "Escopo_RE\n",
            "True     15431\n",
            "False      165\n",
            "Name: count, dtype: int64\n",
            "\n",
            "--- Contagem de valores para 'Escopo_RI' (df_escopo) ---\n",
            "Escopo_RI\n",
            "True     15582\n",
            "False       14\n",
            "Name: count, dtype: int64\n",
            "\n",
            "--- Contagem de valores para 'Escopo_GS' (df_escopo) ---\n",
            "Escopo_GS\n",
            "False    14290\n",
            "True      1306\n",
            "Name: count, dtype: int64\n"
          ]
        }
      ]
    },
    {
      "cell_type": "markdown",
      "source": [
        "## Cruzamento das bases (Merge)"
      ],
      "metadata": {
        "id": "NDJwYf0Ecyg_"
      }
    },
    {
      "cell_type": "markdown",
      "source": [
        "O cruzamento é necessário para comparar o que a escola prevê no escopo (**df_escopo**) com o que já foi executado de fato (**df_projetos**).\n",
        "<br><BR>\n",
        "Vale lembrar que em **df_projetos**, a evolução das etapas estão em linhas diferentes, ou seja, o mesmo projeto pode ter mais de uma etapa para seguir e cada etapa vai estar em linhas diferentes, com os respectivos *STATUS_RDO*.\n",
        "<br><br>\n",
        "Dito isto, o melhor a se fazer é manter apenas uma linha de cada projeto e criar colunas para identificar os status de cada etapa. Nesse caso, vamos criar colunas com valores binários para apontar o que precisamos em cada etapa (0 = não concluída, 1 = concluída).  \n"
      ],
      "metadata": {
        "id": "P-03mZA8dtcM"
      }
    },
    {
      "cell_type": "code",
      "source": [
        "# --- 1. Criando a 'Concluido_Flag' em df_projetos ---\n",
        "print(\"\\n--- Criando 'Concluido_Flag' em df_projetos: 'Aprovado Sala Técnica' = Concluído ---\")\n",
        "\n",
        "# A 'Concluido_Flag' será True se STATUS_RDO for 'Aprovado Sala Técnica', e False caso contrário.\n",
        "df_projetos['Concluido_Flag'] = df_projetos['STATUS_RDO'].apply(lambda x: x == 'Aprovado Sala Técnica')\n",
        "\n",
        "print(\"Coluna 'Concluido_Flag' criada. Primeiras linhas de df_projetos com a nova flag:\")\n",
        "print(df_projetos[['PROJETO', 'Tipo Obra', 'STATUS_RDO', 'Concluido_Flag']].head())\n",
        "print(\"\\nContagem de valores para 'Concluido_Flag':\")\n",
        "print(df_projetos['Concluido_Flag'].value_counts(dropna=False))"
      ],
      "metadata": {
        "id": "oEAFA_Q4iP5F",
        "outputId": "11bca1bb-f597-4054-a02a-8aa07134a3c5",
        "colab": {
          "base_uri": "https://localhost:8080/"
        }
      },
      "execution_count": null,
      "outputs": [
        {
          "output_type": "stream",
          "name": "stdout",
          "text": [
            "\n",
            "--- Criando 'Concluido_Flag' em df_projetos: 'Aprovado Sala Técnica' = Concluído ---\n",
            "Coluna 'Concluido_Flag' criada. Primeiras linhas de df_projetos com a nova flag:\n",
            "    PROJETO     Tipo Obra             STATUS_RDO  Concluido_Flag\n",
            "0  21023255  Rede Externa  Aprovado Sala Técnica            True\n",
            "1  22013563  Rede Externa  Aprovado Sala Técnica            True\n",
            "2  22123024  Rede Externa  Aprovado Sala Técnica            True\n",
            "3  22141456  Rede Externa  Aprovado Sala Técnica            True\n",
            "4  24011223  Rede Externa  Aprovado Sala Técnica            True\n",
            "\n",
            "Contagem de valores para 'Concluido_Flag':\n",
            "Concluido_Flag\n",
            "True     19903\n",
            "False     5291\n",
            "Name: count, dtype: int64\n"
          ]
        }
      ]
    },
    {
      "cell_type": "code",
      "source": [
        "# --- 2. Preparando df_projetos: Agregando status por PROJETO e Tipo Obra (Pivotamento) ---\n",
        "print(\"\\n--- Preparando df_projetos: Agregando status por PROJETO e Tipo Obra ---\")\n",
        "\n",
        "# Pivotar para ter um status de conclusão por tipo de obra para cada projeto\n",
        "df_projetos_pivot = df_projetos.pivot_table(\n",
        "    index='PROJETO',\n",
        "    columns='Tipo Obra', # usando a coluna 'Tipo Obra' do df_projetos\n",
        "    values='Concluido_Flag',\n",
        "    aggfunc='max', # usando 'max' para Booleanos: se *qualquer* RDO daquele tipo de obra está 'Aprovado Sala Técnica', o flag será True\n",
        "    fill_value=False # Preenche NaN (projetos sem aquele tipo de obra) com False\n",
        ")\n",
        "\n",
        "# Renomear as colunas para um formato mais claro (Ex: Rede_Externa_OK)\n",
        "# Lidar com espaços nos nomes das colunas pivotadas (ex: 'Rede Externa' vira 'Rede_Externa')\n",
        "df_projetos_pivot.columns = [f'{col.replace(\" \", \"_\")}_OK' for col in df_projetos_pivot.columns]\n",
        "df_projetos_pivot = df_projetos_pivot.reset_index() # Reseta o index 'PROJETO' para virar uma coluna comum\n",
        "\n",
        "# Garantir que as novas colunas de status sejam do tipo booleano (podem vir como object após o pivot_table)\n",
        "for col in df_projetos_pivot.columns:\n",
        "    if df_projetos_pivot[col].dtype == 'object' and df_projetos_pivot[col].isin([True, False]).all():\n",
        "        df_projetos_pivot[col] = df_projetos_pivot[col].astype(bool)\n",
        "\n",
        "\n",
        "print(\"df_projetos agregado e pivotado para status de conclusão.\")\n",
        "print(\"Primeiras 5 linhas de df_projetos_pivot:\")\n",
        "print(df_projetos_pivot.head())\n",
        "print(\"\\nInformações de df_projetos_pivot:\")\n",
        "df_projetos_pivot.info()"
      ],
      "metadata": {
        "id": "80e0oFHuic9e",
        "outputId": "3374ae51-f64a-4209-f2e0-9b621ec3e530",
        "colab": {
          "base_uri": "https://localhost:8080/"
        }
      },
      "execution_count": null,
      "outputs": [
        {
          "output_type": "stream",
          "name": "stdout",
          "text": [
            "\n",
            "--- Preparando df_projetos: Agregando status por PROJETO e Tipo Obra ---\n",
            "df_projetos agregado e pivotado para status de conclusão.\n",
            "Primeiras 5 linhas de df_projetos_pivot:\n",
            "    PROJETO  Gerador_Solar_OK  Rede_Externa_OK  Rede_Interna_OK\n",
            "0  11000465             False            False             True\n",
            "1  11000562             False             True             True\n",
            "2  11000589             False             True             True\n",
            "3  11001070             False            False             True\n",
            "4  11001186             False            False             True\n",
            "\n",
            "Informações de df_projetos_pivot:\n",
            "<class 'pandas.core.frame.DataFrame'>\n",
            "RangeIndex: 14435 entries, 0 to 14434\n",
            "Data columns (total 4 columns):\n",
            " #   Column            Non-Null Count  Dtype \n",
            "---  ------            --------------  ----- \n",
            " 0   PROJETO           14435 non-null  object\n",
            " 1   Gerador_Solar_OK  14435 non-null  bool  \n",
            " 2   Rede_Externa_OK   14435 non-null  bool  \n",
            " 3   Rede_Interna_OK   14435 non-null  bool  \n",
            "dtypes: bool(3), object(1)\n",
            "memory usage: 155.2+ KB\n"
          ]
        }
      ]
    },
    {
      "cell_type": "code",
      "source": [
        "## **3. PASSO CRUCIAL: Realizando o merge de df_escopo com df_projetos_pivot para criar df_final**\n",
        "\n",
        "#Este é o passo que irá juntar todas as informações tratadas e criar o DataFrame `df_final`, que é o que você precisa para seus plots e análises subsequentes.\n",
        "\n",
        "print(\"\\n--- Realizando o merge de df_escopo com df_projetos_pivot para criar df_final ---\")\n",
        "df_final = pd.merge(df_escopo, df_projetos_pivot, on='PROJETO', how='left')\n",
        "\n",
        "# Preencher quaisquer NaNs nas novas colunas de status (criadas pelo merge) com False\n",
        "# Um `left merge` pode gerar NaNs se um PROJETO de `df_escopo` não tiver um tipo de obra correspondente em `df_projetos_pivot`.\n",
        "status_cols_final = [col for col in df_final.columns if col.endswith('_OK')]\n",
        "for col in status_cols_final:\n",
        "    # Apenas para colunas que realmente deveriam ser booleanas e podem ter NaNs\n",
        "    # E para evitar o FutureWarning, vamos usar o método correto de preenchimento e inferência.\n",
        "    if df_final[col].isnull().any(): # Verifica se há NaNs na coluna\n",
        "        df_final[col] = df_final[col].fillna(False)\n",
        "        # Depois de preencher, garantir que o dtype seja bool\n",
        "        df_final[col] = df_final[col].astype(bool)\n",
        "\n",
        "print(\"\\nMerge concluído. Primeiras 5 linhas do DataFrame final (df_final):\")\n",
        "print(df_final.head())\n",
        "print(\"\\nInformações do DataFrame final (df_final):\")\n",
        "df_final.info()\n",
        "\n",
        "print(\"\\n--- Verificando a distribuição da coluna 'Escola Conectada' no df_final ---\")\n",
        "print(df_final['Escola Conectada'].value_counts(dropna=False))\n",
        "\n",
        "print(\"\\n--- Verificando a distribuição das novas colunas de status no df_final ---\")\n",
        "for col in status_cols_final:\n",
        "    print(f\"\\n{col}:\")\n",
        "    print(df_final[col].value_counts(dropna=False))\n",
        "\n",
        "print(\"\\n--- df_final pronto para a Etapa_ML e plots! ---\")"
      ],
      "metadata": {
        "id": "pA_Oe6s6inlQ",
        "outputId": "953e6390-3482-4547-addd-84c6cfa86701",
        "colab": {
          "base_uri": "https://localhost:8080/"
        }
      },
      "execution_count": null,
      "outputs": [
        {
          "output_type": "stream",
          "name": "stdout",
          "text": [
            "\n",
            "--- Realizando o merge de df_escopo com df_projetos_pivot para criar df_final ---\n",
            "\n",
            "Merge concluído. Primeiras 5 linhas do DataFrame final (df_final):\n",
            "    PROJETO Fase Região  UF        Município  Escopo_RE  Escopo_RI  Escopo_GS  \\\n",
            "0  12001058    B  Norte  AC  Cruzeiro do Sul       True       True      False   \n",
            "1  12001953    B  Norte  AC      Mâncio Lima       True       True      False   \n",
            "2  12001996    B  Norte  AC      Mâncio Lima       True       True      False   \n",
            "3  12002003    B  Norte  AC      Mâncio Lima       True       True      False   \n",
            "4  12002054    B  Norte  AC      Mâncio Lima       True       True      False   \n",
            "\n",
            "   Escola Conectada  Gerador_Solar_OK  Rede_Externa_OK  Rede_Interna_OK  \n",
            "0             False             False            False             True  \n",
            "1              True             False             True             True  \n",
            "2             False             False            False             True  \n",
            "3             False             False            False             True  \n",
            "4             False             False            False             True  \n",
            "\n",
            "Informações do DataFrame final (df_final):\n",
            "<class 'pandas.core.frame.DataFrame'>\n",
            "RangeIndex: 15596 entries, 0 to 15595\n",
            "Data columns (total 12 columns):\n",
            " #   Column            Non-Null Count  Dtype \n",
            "---  ------            --------------  ----- \n",
            " 0   PROJETO           15596 non-null  object\n",
            " 1   Fase              15596 non-null  object\n",
            " 2   Região            15596 non-null  object\n",
            " 3   UF                15596 non-null  object\n",
            " 4   Município         15596 non-null  object\n",
            " 5   Escopo_RE         15596 non-null  bool  \n",
            " 6   Escopo_RI         15596 non-null  bool  \n",
            " 7   Escopo_GS         15596 non-null  bool  \n",
            " 8   Escola Conectada  15596 non-null  bool  \n",
            " 9   Gerador_Solar_OK  15596 non-null  bool  \n",
            " 10  Rede_Externa_OK   15596 non-null  bool  \n",
            " 11  Rede_Interna_OK   15596 non-null  bool  \n",
            "dtypes: bool(7), object(5)\n",
            "memory usage: 716.0+ KB\n",
            "\n",
            "--- Verificando a distribuição da coluna 'Escola Conectada' no df_final ---\n",
            "Escola Conectada\n",
            "False    11492\n",
            "True      4104\n",
            "Name: count, dtype: int64\n",
            "\n",
            "--- Verificando a distribuição das novas colunas de status no df_final ---\n",
            "\n",
            "Gerador_Solar_OK:\n",
            "Gerador_Solar_OK\n",
            "False    14530\n",
            "True      1066\n",
            "Name: count, dtype: int64\n",
            "\n",
            "Rede_Externa_OK:\n",
            "Rede_Externa_OK\n",
            "False    8676\n",
            "True     6920\n",
            "Name: count, dtype: int64\n",
            "\n",
            "Rede_Interna_OK:\n",
            "Rede_Interna_OK\n",
            "True     10227\n",
            "False     5369\n",
            "Name: count, dtype: int64\n",
            "\n",
            "--- df_final pronto para a Etapa_ML e plots! ---\n"
          ]
        },
        {
          "output_type": "stream",
          "name": "stderr",
          "text": [
            "/tmp/ipython-input-66-2421406261.py:15: FutureWarning: Downcasting object dtype arrays on .fillna, .ffill, .bfill is deprecated and will change in a future version. Call result.infer_objects(copy=False) instead. To opt-in to the future behavior, set `pd.set_option('future.no_silent_downcasting', True)`\n",
            "  df_final[col] = df_final[col].fillna(False)\n",
            "/tmp/ipython-input-66-2421406261.py:15: FutureWarning: Downcasting object dtype arrays on .fillna, .ffill, .bfill is deprecated and will change in a future version. Call result.infer_objects(copy=False) instead. To opt-in to the future behavior, set `pd.set_option('future.no_silent_downcasting', True)`\n",
            "  df_final[col] = df_final[col].fillna(False)\n",
            "/tmp/ipython-input-66-2421406261.py:15: FutureWarning: Downcasting object dtype arrays on .fillna, .ffill, .bfill is deprecated and will change in a future version. Call result.infer_objects(copy=False) instead. To opt-in to the future behavior, set `pd.set_option('future.no_silent_downcasting', True)`\n",
            "  df_final[col] = df_final[col].fillna(False)\n"
          ]
        }
      ]
    },
    {
      "cell_type": "code",
      "source": [
        "import pandas as pd # Garanta que pandas está importado\n",
        "\n",
        "print(\"\\n--- Padronizando colunas de Escopo para tipo booleano (True/False) ---\")\n",
        "\n",
        "# Colunas de escopo que precisam ser convertidas para bool\n",
        "escopo_cols_to_convert = ['Escopo_RE', 'Escopo_RI', 'Escopo_GS']\n",
        "\n",
        "for col in escopo_cols_to_convert:\n",
        "    # Garante que a conversão de 0/1 para False/True seja feita corretamente\n",
        "    df_final[col] = df_final[col].astype(bool)\n",
        "    print(f\"Coluna '{col}' convertida para tipo bool.\")\n",
        "\n",
        "print(\"\\nPadronização concluída. Verificando o df_final:\")\n",
        "print(\"Primeiras 5 linhas do DataFrame final (df_final) após padronização:\")\n",
        "print(df_final.head())\n",
        "print(\"\\nInformações do DataFrame final (df_final) após padronização:\")\n",
        "df_final.info()\n",
        "\n",
        "print(\"\\n--- Padronização de tipos de dados concluída! ---\")"
      ],
      "metadata": {
        "id": "Mqd7bA9Bs9s_",
        "outputId": "0b66abaf-099d-4986-e935-661694162081",
        "colab": {
          "base_uri": "https://localhost:8080/"
        }
      },
      "execution_count": null,
      "outputs": [
        {
          "output_type": "stream",
          "name": "stdout",
          "text": [
            "\n",
            "--- Padronizando colunas de Escopo para tipo booleano (True/False) ---\n",
            "Coluna 'Escopo_RE' convertida para tipo bool.\n",
            "Coluna 'Escopo_RI' convertida para tipo bool.\n",
            "Coluna 'Escopo_GS' convertida para tipo bool.\n",
            "\n",
            "Padronização concluída. Verificando o df_final:\n",
            "Primeiras 5 linhas do DataFrame final (df_final) após padronização:\n",
            "    PROJETO Fase Região  UF        Município  Escopo_RE  Escopo_RI  Escopo_GS  \\\n",
            "0  12001058    B  Norte  AC  Cruzeiro do Sul       True       True      False   \n",
            "1  12001953    B  Norte  AC      Mâncio Lima       True       True      False   \n",
            "2  12001996    B  Norte  AC      Mâncio Lima       True       True      False   \n",
            "3  12002003    B  Norte  AC      Mâncio Lima       True       True      False   \n",
            "4  12002054    B  Norte  AC      Mâncio Lima       True       True      False   \n",
            "\n",
            "   Escola Conectada  Gerador_Solar_OK  Rede_Externa_OK  Rede_Interna_OK  \n",
            "0             False             False            False             True  \n",
            "1              True             False             True             True  \n",
            "2             False             False            False             True  \n",
            "3             False             False            False             True  \n",
            "4             False             False            False             True  \n",
            "\n",
            "Informações do DataFrame final (df_final) após padronização:\n",
            "<class 'pandas.core.frame.DataFrame'>\n",
            "RangeIndex: 15596 entries, 0 to 15595\n",
            "Data columns (total 12 columns):\n",
            " #   Column            Non-Null Count  Dtype \n",
            "---  ------            --------------  ----- \n",
            " 0   PROJETO           15596 non-null  object\n",
            " 1   Fase              15596 non-null  object\n",
            " 2   Região            15596 non-null  object\n",
            " 3   UF                15596 non-null  object\n",
            " 4   Município         15596 non-null  object\n",
            " 5   Escopo_RE         15596 non-null  bool  \n",
            " 6   Escopo_RI         15596 non-null  bool  \n",
            " 7   Escopo_GS         15596 non-null  bool  \n",
            " 8   Escola Conectada  15596 non-null  bool  \n",
            " 9   Gerador_Solar_OK  15596 non-null  bool  \n",
            " 10  Rede_Externa_OK   15596 non-null  bool  \n",
            " 11  Rede_Interna_OK   15596 non-null  bool  \n",
            "dtypes: bool(7), object(5)\n",
            "memory usage: 716.0+ KB\n",
            "\n",
            "--- Padronização de tipos de dados concluída! ---\n"
          ]
        }
      ]
    },
    {
      "cell_type": "markdown",
      "source": [
        "##Visualização dos dados"
      ],
      "metadata": {
        "id": "_gJvLGIMbebo"
      }
    },
    {
      "cell_type": "markdown",
      "source": [
        "Distribuição da Variável Alvo (Escola Conectada)"
      ],
      "metadata": {
        "id": "yX6Uedepb85I"
      }
    },
    {
      "cell_type": "code",
      "source": [
        "import matplotlib.pyplot as plt\n",
        "import seaborn as sns\n",
        "\n",
        "print(\"Plot 1: Distribuição da Variável Alvo (Corrigido Definitivamente)\")\n",
        "\n",
        "# Definindo a paleta de cores personalizada com chaves BOOLEANAS (False/True)\n",
        "custom_palette = {False: '#008BD2',  # Azul para 'Não Conectada' (False)\n",
        "                  True: '#12A538'}   # Verde para 'Conectada' (True)\n",
        "\n",
        "plt.figure(figsize=(7, 5))\n",
        "# A CORREÇÃO ESTÁ AQUI: Passando 'Escola Conectada' também para 'hue' e 'legend=False'\n",
        "sns.countplot(x='Escola Conectada', hue='Escola Conectada', data=df_final, palette=custom_palette, legend=False)\n",
        "plt.title('Distribuição da Variável Alvo: Escola Conectada')\n",
        "plt.xlabel('Escolas Conectadas')\n",
        "plt.ylabel('Número de Projetos')\n",
        "plt.xticks(ticks=[0, 1], labels=['Não Conectada', 'Conectada'])\n",
        "plt.grid(axis='y', linestyle='--', alpha=0.7)\n",
        "plt.show()"
      ],
      "metadata": {
        "colab": {
          "base_uri": "https://localhost:8080/",
          "height": 506
        },
        "id": "DTE6YHOpdCDU",
        "outputId": "7c1a0cd7-53b8-4d5d-f4b5-4cc6f6022238"
      },
      "execution_count": null,
      "outputs": [
        {
          "output_type": "stream",
          "name": "stdout",
          "text": [
            "Plot 1: Distribuição da Variável Alvo (Corrigido Definitivamente)\n"
          ]
        },
        {
          "output_type": "display_data",
          "data": {
            "text/plain": [
              "<Figure size 700x500 with 1 Axes>"
            ],
            "image/png": "[encoded data removed]"
          },
          "metadata": {}
        }
      ]
    },
    {
      "cell_type": "markdown",
      "source": [
        "Relação entre Variáveis de Escopo e a Variável Alvo"
      ],
      "metadata": {
        "id": "2TOHIVRzcA-7"
      }
    },
    {
      "cell_type": "code",
      "source": [
        "print(\"Plot 2: Relação Escopo vs. Escola Conectada\")\n",
        "\n",
        "scope_cols = ['Escopo_RE', 'Escopo_RI', 'Escopo_GS']\n",
        "\n",
        "# Definindo a paleta de cores personalizada\n",
        "# Lembre-se que 0 é 'Não Conectada' e 1 é 'Conectada'\n",
        "custom_palette = {0: '#008BD2',  # Azul 'Não Conectada'\n",
        "                  1: '#12A538'} # Verde 'Conectada'\n",
        "\n",
        "plt.figure(figsize=(18, 5))\n",
        "for i, col in enumerate(scope_cols):\n",
        "    plt.subplot(1, 3, i + 1)\n",
        "    sns.countplot(x=col, hue='Escola Conectada', data=df_final, palette=custom_palette)\n",
        "    plt.title(f'Distribuição de {col} por Escola Conectada')\n",
        "    plt.xlabel(col)\n",
        "    plt.ylabel('Número de Projetos')\n",
        "    plt.xticks(ticks=[0, 1], labels=['Não', 'Sim'])\n",
        "    plt.legend(title='Escola Conectada', labels=['Não', 'Sim'])\n",
        "    plt.grid(axis='y', linestyle='--', alpha=0.7)\n",
        "plt.tight_layout()\n",
        "plt.show()\n"
      ],
      "metadata": {
        "colab": {
          "base_uri": "https://localhost:8080/",
          "height": 395
        },
        "id": "qWihB3R0dTTU",
        "outputId": "602dad73-ade7-49d1-aab3-625860aba1a6"
      },
      "execution_count": null,
      "outputs": [
        {
          "output_type": "stream",
          "name": "stdout",
          "text": [
            "Plot 2: Relação Escopo vs. Escola Conectada\n"
          ]
        },
        {
          "output_type": "display_data",
          "data": {
            "text/plain": [
              "<Figure size 1800x500 with 3 Axes>"
            ],
            "image/png": "[encoded data removed]"
          },
          "metadata": {}
        }
      ]
    },
    {
      "cell_type": "markdown",
      "source": [
        "Relação entre Variáveis de Status de Conclusão e a Variável Alvo"
      ],
      "metadata": {
        "id": "s4JmvCCWcBts"
      }
    },
    {
      "cell_type": "code",
      "source": [
        "import matplotlib.pyplot as plt\n",
        "import seaborn as sns\n",
        "\n",
        "print(\"Plot 3: Relação Status de Conclusão vs. Escola Conectada (Cores Ajustadas)\")\n",
        "\n",
        "# Definindo a paleta de cores personalizada com chaves BOOLEANAS (False/True)\n",
        "# Lembre-se que 'Escola Conectada' é BOOLEANA agora\n",
        "custom_palette = {False: '#008BD2',  # Azul para 'Não Conectada'\n",
        "                  True: '#12A538'}   # Verde para 'Conectada'\n",
        "\n",
        "# --- CORREÇÃO AQUI: Ajuste a seleção das colunas para '_OK' ---\n",
        "status_cols = [col for col in df_final.columns if col.endswith('_OK')]\n",
        "\n",
        "\n",
        "# Verifique se a lista de colunas não está vazia antes de plotar\n",
        "if not status_cols:\n",
        "    print(\"Nenhuma coluna de status com '_OK' encontrada no df_final. Verifique os nomes das colunas.\")\n",
        "else:\n",
        "    plt.figure(figsize=(len(status_cols) * 6, 6)) # Ajusta o tamanho da figura dinamicamente\n",
        "\n",
        "    for i, col in enumerate(status_cols):\n",
        "        plt.subplot(1, len(status_cols), i + 1)\n",
        "        # Use 'Escola Conectada' como hue, pois ela é a coluna de 0/1 (True/False)\n",
        "        sns.countplot(x=col, hue='Escola Conectada', data=df_final, palette=custom_palette)\n",
        "\n",
        "        # Ajuste o título e labels para refletir os nomes _OK\n",
        "        title_label = col.replace(\"_OK\", \"\").replace(\"_\", \" \")\n",
        "        plt.title(f'Dist. {title_label} por Escola Conectada')\n",
        "        plt.xlabel(title_label)\n",
        "        plt.ylabel('Número de Projetos')\n",
        "\n",
        "        # As colunas X (status_cols) agora também são booleanas\n",
        "        plt.xticks(ticks=[0, 1], labels=['Não Concluído', 'Concluído'])\n",
        "        plt.legend(title='Escola Conectada', labels=['Não', 'Sim'])\n",
        "        plt.grid(axis='y', linestyle='--', alpha=0.7)\n",
        "\n",
        "    plt.tight_layout()\n",
        "    plt.show()"
      ],
      "metadata": {
        "colab": {
          "base_uri": "https://localhost:8080/",
          "height": 468
        },
        "id": "Mh0dAxMmfWn-",
        "outputId": "d17bc55f-0e27-442f-ed5e-9fdb2d5983c9"
      },
      "execution_count": null,
      "outputs": [
        {
          "output_type": "stream",
          "name": "stdout",
          "text": [
            "Plot 3: Relação Status de Conclusão vs. Escola Conectada (Cores Ajustadas)\n"
          ]
        },
        {
          "output_type": "display_data",
          "data": {
            "text/plain": [
              "<Figure size 1800x600 with 3 Axes>"
            ],
            "image/png": "[encoded data removed]"
          },
          "metadata": {}
        }
      ]
    },
    {
      "cell_type": "markdown",
      "source": [
        "Relação entre Variáveis Categóricas Chave (Fase, Região, UF) e a Variável Alvo\n"
      ],
      "metadata": {
        "id": "q5NiwJS4cCq0"
      }
    },
    {
      "cell_type": "code",
      "source": [
        "# Fase e Região\n",
        "\n",
        "print(\"Plot 4a: Relação Fase e Região vs. Escola Conectada (Cores Ajustadas)\")\n",
        "categorical_for_plot = ['Fase', 'Região']\n",
        "plt.figure(figsize=(16, 6))\n",
        "for i, col in enumerate(categorical_for_plot):\n",
        "    plt.subplot(1, 2, i + 1)\n",
        "    sns.countplot(x=col, hue='Escola Conectada', data=df_final, palette=custom_palette) # Aplicando a paleta\n",
        "    plt.title(f'Distribuição de {col} por Escola Conectada')\n",
        "    plt.xlabel(col)\n",
        "    plt.ylabel('Número de Projetos')\n",
        "    plt.legend(title='Escola Conectada', labels=['Não', 'Sim'])\n",
        "    plt.xticks(rotation=45, ha='right')\n",
        "    plt.grid(axis='y', linestyle='--', alpha=0.7)\n",
        "plt.tight_layout()\n",
        "plt.show()\n",
        "\n",
        "print(\"---- Total de Escolas Conectadas por Fase ----\")\n",
        "print(df_final.groupby('Fase')['Escola Conectada'].sum())\n",
        "print(\"\\n\")\n",
        "print(\"---- Total de Escolas Conectadas por Região (Maior para Menor) ----\")\n",
        "print(df_final.groupby('Região')['Escola Conectada'].sum().sort_values(ascending=False))\n",
        "print(\"\\n\")\n",
        "\n",
        "\n",
        "# --- Para UF, vamos plotar as Top 10 UFs com mais projetos conectados ---\n",
        "print(\"Plot 4b: Relação Top 10 UFs vs. Escola Conectada (Cores Ajustadas)\")\n",
        "plt.figure(figsize=(12, 6))\n",
        "top_ufs_connected = df_final[df_final['Escola Conectada'] == 1]['UF'].value_counts().nlargest(10).index\n",
        "sns.countplot(x='UF', hue='Escola Conectada', data=df_final[df_final['UF'].isin(top_ufs_connected)], palette=custom_palette, # Aplicando a paleta\n",
        "              order=top_ufs_connected)\n",
        "plt.title('Top 10 UFs por Número de Projetos Conectados')\n",
        "plt.xlabel('UF')\n",
        "plt.ylabel('Número de Projetos')\n",
        "plt.xticks(rotation=45, ha='right')\n",
        "plt.legend(title='Escola Conectada', labels=['Não', 'Sim'])\n",
        "plt.grid(axis='y', linestyle='--', alpha=0.7)\n",
        "plt.tight_layout()\n",
        "plt.show()\n",
        "\n",
        "print(\"---- TOP 10 Total de Escolas Conectadas por UF ----\")\n",
        "print(df_final.groupby('UF')['Escola Conectada'].sum().nlargest(10))\n",
        "print(\"\\n\")\n"
      ],
      "metadata": {
        "colab": {
          "base_uri": "https://localhost:8080/",
          "height": 1000
        },
        "id": "8HnYVAfifk_y",
        "outputId": "9d581fa7-4e20-43bc-efef-97276e393be9"
      },
      "execution_count": null,
      "outputs": [
        {
          "output_type": "stream",
          "name": "stdout",
          "text": [
            "Plot 4a: Relação Fase e Região vs. Escola Conectada (Cores Ajustadas)\n"
          ]
        },
        {
          "output_type": "display_data",
          "data": {
            "text/plain": [
              "<Figure size 1600x600 with 2 Axes>"
            ],
            "image/png": "[encoded data removed]"
          },
          "metadata": {}
        },
        {
          "output_type": "stream",
          "name": "stdout",
          "text": [
            "---- Total de Escolas Conectadas por Fase ----\n",
            "Fase\n",
            "A    1278\n",
            "B    2826\n",
            "Name: Escola Conectada, dtype: int64\n",
            "\n",
            "\n",
            "---- Total de Escolas Conectadas por Região (Maior para Menor) ----\n",
            "Região\n",
            "Norte           1366\n",
            "Nordeste II     1109\n",
            "Nordeste I       932\n",
            "Sudeste          420\n",
            "Sul              195\n",
            "Centro-Oeste      82\n",
            "Name: Escola Conectada, dtype: int64\n",
            "\n",
            "\n",
            "Plot 4b: Relação Top 10 UFs vs. Escola Conectada (Cores Ajustadas)\n"
          ]
        },
        {
          "output_type": "display_data",
          "data": {
            "text/plain": [
              "<Figure size 1200x600 with 1 Axes>"
            ],
            "image/png": "[encoded data removed]"
          },
          "metadata": {}
        },
        {
          "output_type": "stream",
          "name": "stdout",
          "text": [
            "---- TOP 10 Total de Escolas Conectadas por UF ----\n",
            "UF\n",
            "PA    833\n",
            "BA    513\n",
            "MA    508\n",
            "PB    282\n",
            "AM    272\n",
            "PI    233\n",
            "MG    201\n",
            "PE    165\n",
            "SP    149\n",
            "RS    131\n",
            "Name: Escola Conectada, dtype: int64\n",
            "\n",
            "\n"
          ]
        }
      ]
    },
    {
      "cell_type": "markdown",
      "source": [
        "Matriz de Correlação"
      ],
      "metadata": {
        "id": "CLRWPvhAcDX7"
      }
    },
    {
      "cell_type": "code",
      "source": [
        "print(\"Plot 5: Matriz de Correlação\")\n",
        "plt.figure(figsize=(10, 8))\n",
        "# Selecionar apenas as colunas numéricas/booleanas para a matriz de correlação\n",
        "numeric_bool_cols = df_final.select_dtypes(include=['int64', 'bool']).columns.tolist()\n",
        "# Remover 'PROJETO' da correlação se ainda estiver lá e não for numérica\n",
        "if 'PROJETO' in numeric_bool_cols:\n",
        "    numeric_bool_cols.remove('PROJETO')\n",
        "\n",
        "correlation_matrix = df_final[numeric_bool_cols].corr()\n",
        "sns.heatmap(correlation_matrix, annot=True, cmap='coolwarm', fmt=\".2f\", linewidths=.5)\n",
        "plt.title('Matriz de Correlação das Features Numéricas/Booleanas')\n",
        "plt.show()\n"
      ],
      "metadata": {
        "colab": {
          "base_uri": "https://localhost:8080/",
          "height": 829
        },
        "id": "8w3YMjL1gUPq",
        "outputId": "dc4284cc-bd7b-4e3c-abc6-a1666a78d5a2"
      },
      "execution_count": null,
      "outputs": [
        {
          "output_type": "stream",
          "name": "stdout",
          "text": [
            "Plot 5: Matriz de Correlação\n"
          ]
        },
        {
          "output_type": "display_data",
          "data": {
            "text/plain": [
              "<Figure size 1000x800 with 2 Axes>"
            ],
            "image/png": "[encoded data removed]"
          },
          "metadata": {}
        }
      ]
    },
    {
      "cell_type": "markdown",
      "source": [
        "## Conclusão"
      ],
      "metadata": {
        "id": "zsltYkgT6b8z"
      }
    },
    {
      "cell_type": "markdown",
      "source": [
        "Para esta etapa do trabalho, consegui identificar em ambos DataFrames as necessidades de tratamentos/limpeza e respectivas soluções. Em seguida o cruzamento das tabelas foi bem sucedido, e a visualização dos dados satisfatória, demostrando que o Dataset final está pronto para ser utilizado em Machine Learning."
      ],
      "metadata": {
        "id": "ioTttnwm6faO"
      }
    }
  ]
}