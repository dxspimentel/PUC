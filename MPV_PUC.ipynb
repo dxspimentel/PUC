{
  "nbformat": 4,
  "nbformat_minor": 0,
  "metadata": {
    "colab": {
      "provenance": [],
      "toc_visible": true,
      "authorship_tag": "ABX9TyMonoN1BfvZ7qxuBucNV61F",
      "include_colab_link": true
    },
    "kernelspec": {
      "name": "python3",
      "display_name": "Python 3"
    },
    "language_info": {
      "name": "python"
    }
  },
  "cells": [
    {
      "cell_type": "markdown",
      "metadata": {
        "id": "view-in-github",
        "colab_type": "text"
      },
      "source": [
        "<a href=\"https://colab.research.google.com/github/dxspimentel/PUC/blob/main/MPV_PUC.ipynb\" target=\"_parent\"><img src=\"https://colab.research.google.com/assets/colab-badge.svg\" alt=\"Open In Colab\"/></a>"
      ]
    },
    {
      "cell_type": "markdown",
      "source": [
        "# **MVP - Análise de Dados**"
      ],
      "metadata": {
        "id": "RwgmylTojR8B"
      }
    },
    {
      "cell_type": "code",
      "source": [
        "# prompt: Crie uma tabela simples com 5 colunas e 20 linhas, com dados que eu possa analisar com a biblioteca pandas. Dê nome as colunas.\n",
        "\n",
        "import pandas as pd\n",
        "import numpy as np\n",
        "\n",
        "# Generate sample data\n",
        "data = {\n",
        "    'ID': range(1, 21),\n",
        "    'Categoria': np.random.choice(['A', 'B', 'C', 'D', 'E'], 20),\n",
        "    'Valor': np.random.rand(20) * 1000,\n",
        "    'Quantidade': np.random.randint(1, 50, 20),\n",
        "    'Data': pd.to_datetime(pd.date_range(start='2023-01-01', periods=20, freq='D'))\n",
        "}\n",
        "\n",
        "# Create the DataFrame\n",
        "df = pd.DataFrame(data)\n",
        "\n",
        "# Display the first few rows\n",
        "print(df.head())\n",
        "\n",
        "# You can now use pandas to analyze 'df'\n",
        "# For example, to get basic statistics:\n",
        "# print(df.describe())\n",
        "\n",
        "# To group by category and sum the value:\n",
        "# print(df.groupby('Categoria')['Valor'].sum())\n"
      ],
      "metadata": {
        "colab": {
          "base_uri": "https://localhost:8080/"
        },
        "id": "5Z0vblvGkgNU",
        "outputId": "0addba55-27b9-4bf6-99f7-54cf9a902e7f"
      },
      "execution_count": 2,
      "outputs": [
        {
          "output_type": "stream",
          "name": "stdout",
          "text": [
            "   ID Categoria       Valor  Quantidade       Data\n",
            "0   1         B  782.367643           7 2023-01-01\n",
            "1   2         C  502.118239          13 2023-01-02\n",
            "2   3         C  751.376465          41 2023-01-03\n",
            "3   4         E  600.898618          14 2023-01-04\n",
            "4   5         A  852.528357          37 2023-01-05\n"
          ]
        }
      ]
    }
  ]
}